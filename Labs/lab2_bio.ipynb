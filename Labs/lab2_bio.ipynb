{
  "nbformat": 4,
  "nbformat_minor": 0,
  "metadata": {
    "colab": {
      "name": "lab2-bio.ipynb",
      "provenance": [],
      "collapsed_sections": []
    },
    "kernelspec": {
      "name": "python3",
      "display_name": "Python 3"
    },
    "language_info": {
      "name": "python"
    }
  },
  "cells": [
    {
      "cell_type": "markdown",
      "source": [
        "1. Sort, by increasing order of organizational structures, the following cellular elements:\n",
        "Cell, Genome, Chromosome, DNA, Gene, Nucleotide"
      ],
      "metadata": {
        "id": "wL5s1IrFmALv"
      }
    },
    {
      "cell_type": "markdown",
      "source": [
        "2. Consider a word of length 5. Indicate the number of possible word combinations:\n",
        "\n",
        "a. based on the DNA alphabet: ATGCA\n",
        "\n",
        "b. based on the RNA alphabet: AUGCA\n",
        "\n",
        "c. based on the protein alphabet: ACDEF\n"
      ],
      "metadata": {
        "id": "1r462bHGm7vu"
      }
    },
    {
      "cell_type": "code",
      "source": [
        "class MySeq:\n",
        "  def __init__( self , seq, seq_type = \"DNA\"):\n",
        "    self .seq = seq\n",
        "    self .seq_type = seq_type\n",
        "  def print_sequence( self ):\n",
        "    print (\"Sequence: \" + self .seq)\n",
        "  def get_seq_biotype ( self ):\n",
        "    return self .seq_type\n",
        "  def show_info_seq ( self ):\n",
        "    print (\"Sequence: \" + self .seq + \" biotype: \" + self .seq_type)\n",
        "  def count_occurrences( self , seq_search):\n",
        "    return self .seq.count(seq_search)\n",
        "  def check(self, seq):\n",
        "    if(\"T\" in seq and \"A\" in seq and \"G\" in seq and\"C\" in seq):\n",
        "      return \"DNA Alphabet\"\n",
        "    elif(\"A\" in seq and \"U\" in seq and \"G\" in seq and \"C\" in seq):\n",
        "      return \"RNA Alphabet\"\n",
        "    else:\n",
        "      return \"Protein Alphabet\""
      ],
      "metadata": {
        "id": "5S2vo2n7pBJz"
      },
      "execution_count": null,
      "outputs": []
    },
    {
      "cell_type": "code",
      "source": [
        "s1 = MySeq(\"AUGCA\")\n",
        "s1.check(s1.seq)"
      ],
      "metadata": {
        "colab": {
          "base_uri": "https://localhost:8080/",
          "height": 35
        },
        "id": "n1XsEi2KqJGD",
        "outputId": "c790d252-f0ea-457f-a7eb-7b55eef978b5"
      },
      "execution_count": null,
      "outputs": [
        {
          "output_type": "execute_result",
          "data": {
            "application/vnd.google.colaboratory.intrinsic+json": {
              "type": "string"
            },
            "text/plain": [
              "'RNA Alphabet'"
            ]
          },
          "metadata": {},
          "execution_count": 10
        }
      ]
    },
    {
      "cell_type": "code",
      "source": [
        "s1 = MySeq(\"ATGCA\")\n",
        "s1.check(s1.seq)"
      ],
      "metadata": {
        "colab": {
          "base_uri": "https://localhost:8080/",
          "height": 35
        },
        "id": "_PSeU4duqPzd",
        "outputId": "c65c9418-f705-4688-d5c1-e11479c1f502"
      },
      "execution_count": null,
      "outputs": [
        {
          "output_type": "execute_result",
          "data": {
            "application/vnd.google.colaboratory.intrinsic+json": {
              "type": "string"
            },
            "text/plain": [
              "'DNA Alphabet'"
            ]
          },
          "metadata": {},
          "execution_count": 11
        }
      ]
    },
    {
      "cell_type": "code",
      "source": [
        "s1 = MySeq(\"ACDEF\")\n",
        "s1.check(s1.seq)"
      ],
      "metadata": {
        "colab": {
          "base_uri": "https://localhost:8080/",
          "height": 35
        },
        "id": "9w9QDTLsrEft",
        "outputId": "9c283ccd-bfca-4917-c547-cbc89d26c1b2"
      },
      "execution_count": null,
      "outputs": [
        {
          "output_type": "execute_result",
          "data": {
            "application/vnd.google.colaboratory.intrinsic+json": {
              "type": "string"
            },
            "text/plain": [
              "'Protein Alphabet'"
            ]
          },
          "metadata": {},
          "execution_count": 12
        }
      ]
    },
    {
      "cell_type": "markdown",
      "source": [
        "3. Consider a DNA sequence with 12 nucleotides:\n",
        "\n",
        "AATGCTCGTAAT\n",
        "\n",
        "AAT GCT CGT AAT\n",
        "\n",
        "ATG CTC GTA \n",
        "\n",
        "TGC TCG TAA \n",
        "\n",
        "a. Indicate the number of codons that can be derived from direct reading of this sequence?\n",
        "\n",
        "давталттай for ашиглаж 3 урттай уургуудыг ялгаж авна. Дараа нь 3-с бага урттай үлдсэн уургуудаа хасна. Олдсон уургаа хэдэн ширхэг байгааг нь олно. "
      ],
      "metadata": {
        "id": "NNd9887RrNEo"
      }
    },
    {
      "cell_type": "code",
      "source": [
        "codon = [\"UUU\",\"UUC\", \"UUA\", \"UUG\", \"UCU\", \"UCA\", \"UCC\", \"UCG\", \"AUU\", \"AUC\", \"AUA\", \"AUG\", \"GUU\", \"GUC\", \"GUA\", \"GUG\",\n",
        "         \"UCU\", \"UCC\", \"UCA\", \"UCG\", \"AGA\", \"AGG\", \"CCU\", \"CCC\", \"CCA\", \"CCG\", \"ACU\", \"ACC\", \"ACA\", \"ACG\", \"GCU\", \"GCC\", \"GCA\", \"GCG\",\n",
        "         \"UAA\", \"UAC\", \"UAA\", \"UAG\", \"UGA\", \"CAU\", \"CAG\", \"CAA\", \"CAG\", \"AAU\", \"AAC\", \"AAA\", \"AAG\", \"GAU\", \"GAC\", \"GAA\", \"GAG\", \"UGU\", \n",
        "         \"UGC\", \"UGG\", \"CGU\", \"CGC\", \"CGA\", \"CGG\", \"AGA\", \"AGG\"]\n",
        "split_string3 = []\n",
        "n = 3\n",
        "string = \"UUUUUCUUAUUG\"\n",
        "for i in range(3):\n",
        "  for j in range(i, len(string),3):\n",
        "    split_string3.append(string[j: j + n])\n",
        "print(split_string3)\n",
        "\n",
        "\n",
        "for m in range(0,len(split_string3)-1):\n",
        "  if(len(split_string3[m]) < 3):\n",
        "    split_string3.remove(split_string3[m])\n",
        "print(split_string3)\n",
        "\n",
        "n = 0\n",
        "for j in range(0,len(split_string3)):\n",
        "  if(split_string3[j] in codon):\n",
        "    n = n + 1\n",
        "    print(\"Yes\")\n",
        "  else:\n",
        "    print(\"No\")\n",
        "print(\"Total codons: \", n)"
      ],
      "metadata": {
        "colab": {
          "base_uri": "https://localhost:8080/"
        },
        "id": "6av6_X0k-9Kd",
        "outputId": "30c5aee1-06c0-4f8b-a152-4714ef3ae1f1"
      },
      "execution_count": null,
      "outputs": [
        {
          "output_type": "stream",
          "name": "stdout",
          "text": [
            "['UUU', 'UUC', 'UUA', 'UUG', 'UUU', 'UCU', 'UAU', 'UG', 'UUU', 'CUU', 'AUU', 'G']\n",
            "['UUU', 'UUC', 'UUA', 'UUG', 'UUU', 'UCU', 'UAU', 'UUU', 'CUU', 'AUU']\n",
            "Yes\n",
            "Yes\n",
            "Yes\n",
            "Yes\n",
            "Yes\n",
            "Yes\n",
            "No\n",
            "Yes\n",
            "No\n",
            "Yes\n",
            "Total codons:  8\n"
          ]
        }
      ]
    },
    {
      "cell_type": "markdown",
      "source": [
        "b. Consider that, in the beginning of the sequence, we find the start codon and in the end one of the stop codons. What is the total number of codons that can be derived from this reading?\n",
        "\n",
        "\n",
        "Старт уургийн массив дахь инексийг олно. Олдсон индексээрээ давталт үүсгэж Стоп хүртэл хэдэн уураг байгааг тоолно. "
      ],
      "metadata": {
        "id": "jX6KoHER_Lj7"
      }
    },
    {
      "cell_type": "code",
      "source": [
        "split_string3 = []\n",
        "n = 3\n",
        "string = \"UUCAUGUUAUAA\"\n",
        "for i in range(3):\n",
        "  for j in range(i, len(string),3):\n",
        "    split_string3.append(string[j: j + n])\n",
        "print(split_string3)\n",
        "\n",
        "for m in range(0,len(split_string3)-1):\n",
        "  if(len(split_string3[m]) < 3):\n",
        "    split_string3.remove(split_string3[m])\n",
        "print(split_string3)\n",
        "\n",
        "count = 0\n",
        "augIndex = split_string3.index(\"AUG\")\n",
        "for i in range(augIndex,len(split_string3)):\n",
        "    count += 1\n",
        "    if(split_string3[i] == 'UAA' or split_string3[i] == 'UGA' or split_string3[i] == 'UAG'):\n",
        "            break\n",
        "print(count)"
      ],
      "metadata": {
        "colab": {
          "base_uri": "https://localhost:8080/"
        },
        "id": "tNikhCaW_JTi",
        "outputId": "e67055f7-7c2e-45b8-e55d-094249e2da1a"
      },
      "execution_count": null,
      "outputs": [
        {
          "output_type": "stream",
          "name": "stdout",
          "text": [
            "['UUC', 'AUG', 'UUA', 'UAA', 'UCA', 'UGU', 'UAU', 'AA', 'CAU', 'GUU', 'AUA', 'A']\n",
            "['UUC', 'AUG', 'UUA', 'UAA', 'UCA', 'UGU', 'UAU', 'CAU', 'GUU', 'AUA']\n",
            "3\n"
          ]
        }
      ]
    },
    {
      "cell_type": "markdown",
      "source": [
        "c. Indicate the total number of reading possibilities, i.e. all the reading frames? \n",
        "\n",
        "Хэтэрхий олон боломжууд байсан тул цаг хэмнэх гээд уургийн хэмжээг албаар багасгасан юм."
      ],
      "metadata": {
        "id": "1y9uVQbC_tcn"
      }
    },
    {
      "cell_type": "code",
      "source": [
        "def toString(List):\n",
        "    return ''.join(List)\n",
        " \n",
        "# Function to print permutations of string\n",
        "# This function takes three parameters:\n",
        "# 1. String\n",
        "# 2. Starting index of the string\n",
        "# 3. Ending index of the string.\n",
        "def permute(a, l, r):\n",
        "    if l==r:\n",
        "        print (toString(a))\n",
        "    else:\n",
        "        for i in range(l,r+1):\n",
        "            a[l], a[i] = a[i], a[l]\n",
        "            permute(a, l+1, r)\n",
        "            a[l], a[i] = a[i], a[l] # backtrack\n",
        " \n",
        "# Driver program to test the above function\n",
        "string = \"UUCAU\"\n",
        "n = len(string)\n",
        "a = list(string)\n",
        "permute(a, 0, n-1)"
      ],
      "metadata": {
        "colab": {
          "base_uri": "https://localhost:8080/"
        },
        "id": "g6jUA1Cl_ty_",
        "outputId": "a2d3d0d9-2241-4d2a-b04e-f41a87c5d638"
      },
      "execution_count": null,
      "outputs": [
        {
          "output_type": "stream",
          "name": "stdout",
          "text": [
            "UUCAU\n",
            "UUCUA\n",
            "UUACU\n",
            "UUAUC\n",
            "UUUAC\n",
            "UUUCA\n",
            "UCUAU\n",
            "UCUUA\n",
            "UCAUU\n",
            "UCAUU\n",
            "UCUAU\n",
            "UCUUA\n",
            "UACUU\n",
            "UACUU\n",
            "UAUCU\n",
            "UAUUC\n",
            "UAUUC\n",
            "UAUCU\n",
            "UUCAU\n",
            "UUCUA\n",
            "UUACU\n",
            "UUAUC\n",
            "UUUAC\n",
            "UUUCA\n",
            "UUCAU\n",
            "UUCUA\n",
            "UUACU\n",
            "UUAUC\n",
            "UUUAC\n",
            "UUUCA\n",
            "UCUAU\n",
            "UCUUA\n",
            "UCAUU\n",
            "UCAUU\n",
            "UCUAU\n",
            "UCUUA\n",
            "UACUU\n",
            "UACUU\n",
            "UAUCU\n",
            "UAUUC\n",
            "UAUUC\n",
            "UAUCU\n",
            "UUCAU\n",
            "UUCUA\n",
            "UUACU\n",
            "UUAUC\n",
            "UUUAC\n",
            "UUUCA\n",
            "CUUAU\n",
            "CUUUA\n",
            "CUAUU\n",
            "CUAUU\n",
            "CUUAU\n",
            "CUUUA\n",
            "CUUAU\n",
            "CUUUA\n",
            "CUAUU\n",
            "CUAUU\n",
            "CUUAU\n",
            "CUUUA\n",
            "CAUUU\n",
            "CAUUU\n",
            "CAUUU\n",
            "CAUUU\n",
            "CAUUU\n",
            "CAUUU\n",
            "CUUAU\n",
            "CUUUA\n",
            "CUAUU\n",
            "CUAUU\n",
            "CUUAU\n",
            "CUUUA\n",
            "AUCUU\n",
            "AUCUU\n",
            "AUUCU\n",
            "AUUUC\n",
            "AUUUC\n",
            "AUUCU\n",
            "ACUUU\n",
            "ACUUU\n",
            "ACUUU\n",
            "ACUUU\n",
            "ACUUU\n",
            "ACUUU\n",
            "AUCUU\n",
            "AUCUU\n",
            "AUUCU\n",
            "AUUUC\n",
            "AUUUC\n",
            "AUUCU\n",
            "AUCUU\n",
            "AUCUU\n",
            "AUUCU\n",
            "AUUUC\n",
            "AUUUC\n",
            "AUUCU\n",
            "UUCAU\n",
            "UUCUA\n",
            "UUACU\n",
            "UUAUC\n",
            "UUUAC\n",
            "UUUCA\n",
            "UCUAU\n",
            "UCUUA\n",
            "UCAUU\n",
            "UCAUU\n",
            "UCUAU\n",
            "UCUUA\n",
            "UACUU\n",
            "UACUU\n",
            "UAUCU\n",
            "UAUUC\n",
            "UAUUC\n",
            "UAUCU\n",
            "UUCAU\n",
            "UUCUA\n",
            "UUACU\n",
            "UUAUC\n",
            "UUUAC\n",
            "UUUCA\n"
          ]
        }
      ]
    },
    {
      "cell_type": "markdown",
      "source": [
        "Suppose that you are studying a very short protein sequence. We would like to know the\n",
        "sequence of nucleotides that gave rise to this protein sequence: Met-Ala-His-Trp.\n",
        "\n",
        "a. How many mRNA sequences can code this protein?\n",
        "\n",
        "itertools-н санг дуудаж combination ашиглаж боломжтой бүх уургыг олно. Дараа нь тэр уургуудаа len ашиглаж тоог нь олно. \n"
      ],
      "metadata": {
        "id": "vCgl8Ra2_Whl"
      }
    },
    {
      "cell_type": "code",
      "source": [
        "seq = {'Met' : ['AUG'],\n",
        "             'Ala': ['GCU','GCC','GCA','GCG'],\n",
        "             'His':['CAU', 'CAG'],\n",
        "             'Trp': ['ACU','ACC','ACA','ACG']}\n",
        "import itertools\n",
        "keys = seq.keys()\n",
        "values = (seq[key] for key in keys)\n",
        "combinations = [dict(zip(keys, combination)) for combination in itertools.product(*values)]\n",
        "print(combinations)"
      ],
      "metadata": {
        "colab": {
          "base_uri": "https://localhost:8080/"
        },
        "id": "j677FApo9_gj",
        "outputId": "1c86c98c-1371-483f-aca7-f9c65fe056be"
      },
      "execution_count": null,
      "outputs": [
        {
          "output_type": "stream",
          "name": "stdout",
          "text": [
            "[{'Met': 'AUG', 'Ala': 'GCU', 'His': 'CAU', 'Trp': 'ACU'}, {'Met': 'AUG', 'Ala': 'GCU', 'His': 'CAU', 'Trp': 'ACC'}, {'Met': 'AUG', 'Ala': 'GCU', 'His': 'CAU', 'Trp': 'ACA'}, {'Met': 'AUG', 'Ala': 'GCU', 'His': 'CAU', 'Trp': 'ACG'}, {'Met': 'AUG', 'Ala': 'GCU', 'His': 'CAG', 'Trp': 'ACU'}, {'Met': 'AUG', 'Ala': 'GCU', 'His': 'CAG', 'Trp': 'ACC'}, {'Met': 'AUG', 'Ala': 'GCU', 'His': 'CAG', 'Trp': 'ACA'}, {'Met': 'AUG', 'Ala': 'GCU', 'His': 'CAG', 'Trp': 'ACG'}, {'Met': 'AUG', 'Ala': 'GCC', 'His': 'CAU', 'Trp': 'ACU'}, {'Met': 'AUG', 'Ala': 'GCC', 'His': 'CAU', 'Trp': 'ACC'}, {'Met': 'AUG', 'Ala': 'GCC', 'His': 'CAU', 'Trp': 'ACA'}, {'Met': 'AUG', 'Ala': 'GCC', 'His': 'CAU', 'Trp': 'ACG'}, {'Met': 'AUG', 'Ala': 'GCC', 'His': 'CAG', 'Trp': 'ACU'}, {'Met': 'AUG', 'Ala': 'GCC', 'His': 'CAG', 'Trp': 'ACC'}, {'Met': 'AUG', 'Ala': 'GCC', 'His': 'CAG', 'Trp': 'ACA'}, {'Met': 'AUG', 'Ala': 'GCC', 'His': 'CAG', 'Trp': 'ACG'}, {'Met': 'AUG', 'Ala': 'GCA', 'His': 'CAU', 'Trp': 'ACU'}, {'Met': 'AUG', 'Ala': 'GCA', 'His': 'CAU', 'Trp': 'ACC'}, {'Met': 'AUG', 'Ala': 'GCA', 'His': 'CAU', 'Trp': 'ACA'}, {'Met': 'AUG', 'Ala': 'GCA', 'His': 'CAU', 'Trp': 'ACG'}, {'Met': 'AUG', 'Ala': 'GCA', 'His': 'CAG', 'Trp': 'ACU'}, {'Met': 'AUG', 'Ala': 'GCA', 'His': 'CAG', 'Trp': 'ACC'}, {'Met': 'AUG', 'Ala': 'GCA', 'His': 'CAG', 'Trp': 'ACA'}, {'Met': 'AUG', 'Ala': 'GCA', 'His': 'CAG', 'Trp': 'ACG'}, {'Met': 'AUG', 'Ala': 'GCG', 'His': 'CAU', 'Trp': 'ACU'}, {'Met': 'AUG', 'Ala': 'GCG', 'His': 'CAU', 'Trp': 'ACC'}, {'Met': 'AUG', 'Ala': 'GCG', 'His': 'CAU', 'Trp': 'ACA'}, {'Met': 'AUG', 'Ala': 'GCG', 'His': 'CAU', 'Trp': 'ACG'}, {'Met': 'AUG', 'Ala': 'GCG', 'His': 'CAG', 'Trp': 'ACU'}, {'Met': 'AUG', 'Ala': 'GCG', 'His': 'CAG', 'Trp': 'ACC'}, {'Met': 'AUG', 'Ala': 'GCG', 'His': 'CAG', 'Trp': 'ACA'}, {'Met': 'AUG', 'Ala': 'GCG', 'His': 'CAG', 'Trp': 'ACG'}]\n"
          ]
        }
      ]
    },
    {
      "cell_type": "code",
      "source": [
        "print(len(combinations))"
      ],
      "metadata": {
        "colab": {
          "base_uri": "https://localhost:8080/"
        },
        "id": "SSYiArrL-MwP",
        "outputId": "c8a301d6-73cb-4e85-97f1-8bcecf04e829"
      },
      "execution_count": null,
      "outputs": [
        {
          "output_type": "stream",
          "name": "stdout",
          "text": [
            "32\n"
          ]
        }
      ]
    },
    {
      "cell_type": "markdown",
      "source": [
        "b. What is the length of the mRNA?"
      ],
      "metadata": {
        "id": "a4VlSuqYB4Rh"
      }
    },
    {
      "cell_type": "code",
      "source": [
        "print(len(combinations[0]['Met']) + len(combinations[0]['Ala'])+len(combinations[0]['His'])+len(combinations[0]['Trp']) )"
      ],
      "metadata": {
        "colab": {
          "base_uri": "https://localhost:8080/"
        },
        "id": "vCrkCcBl-Oay",
        "outputId": "a4c7204e-e93e-490f-f6a7-d3e786aed047"
      },
      "execution_count": null,
      "outputs": [
        {
          "output_type": "stream",
          "name": "stdout",
          "text": [
            "12\n"
          ]
        }
      ]
    },
    {
      "cell_type": "markdown",
      "source": [
        "c. How many nucleotides from the mRNA are critical to code for this protein, i.e. how\n",
        "many of the nucleotides will have a direct impact in the amino acid sequence?\n",
        "\n",
        "\n",
        "Лист-ээ сетруу хөрвүүлнэ. Ингэснээр бусдаасаа ялгаатай нуклеотидын уургууд л үлдэнэ. Дараа нь сет дотор хэдэн ширхэг уургууд байгааг нь len-р олно. "
      ],
      "metadata": {
        "id": "yUsaivN7B821"
      }
    },
    {
      "cell_type": "code",
      "source": [
        "import json\n",
        "c = [json.dumps(combinations)]\n",
        "set(c)\n",
        "print(len(set(c)))"
      ],
      "metadata": {
        "colab": {
          "base_uri": "https://localhost:8080/"
        },
        "id": "hghaHUwoB9io",
        "outputId": "6dbede3d-9dd8-4b23-8a8d-42e9a71c1c6b"
      },
      "execution_count": null,
      "outputs": [
        {
          "output_type": "stream",
          "name": "stdout",
          "text": [
            "1\n"
          ]
        }
      ]
    },
    {
      "cell_type": "markdown",
      "source": [
        "Helpful links: \n",
        "\n",
        "https://www.geeksforgeeks.org/permutation-and-combination-in-python/\n",
        "\n",
        "https://riptutorial.com/python/example/10160/all-combinations-of-dictionary-values\n",
        "\n",
        "https://stackoverflow.com/questions/13264511/typeerror-unhashable-type-dict\n",
        "\n",
        "https://www.geeksforgeeks.org/find-the-length-of-a-set-in-python/"
      ],
      "metadata": {
        "id": "Fn7CWFh2AtE7"
      }
    }
  ]
}