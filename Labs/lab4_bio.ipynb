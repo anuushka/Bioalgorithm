{
  "nbformat": 4,
  "nbformat_minor": 0,
  "metadata": {
    "colab": {
      "name": "lab4-bio.ipynb",
      "provenance": []
    },
    "kernelspec": {
      "name": "python3",
      "display_name": "Python 3"
    },
    "language_info": {
      "name": "python"
    }
  },
  "cells": [
    {
      "cell_type": "code",
      "execution_count": null,
      "metadata": {
        "colab": {
          "base_uri": "https://localhost:8080/"
        },
        "id": "17U2lt1bqUO1",
        "outputId": "3315b6e8-aff0-40c4-adbd-aadc6ac73e63"
      },
      "outputs": [
        {
          "output_type": "stream",
          "name": "stdout",
          "text": [
            "3\n",
            "-1\n",
            "[4, 11]\n"
          ]
        }
      ],
      "source": [
        "def search_first_occ(seq, pattern):\n",
        "  found = False\n",
        "  i=0\n",
        "  while i <= len(seq) - len(pattern) and not found:\n",
        "    j=0\n",
        "    while j < len(pattern) and pattern[j]==seq[i+j]:\n",
        "      j=j+1\n",
        "    if j== len(pattern): found = True\n",
        "    else : i += 1\n",
        "  if found: return i\n",
        "  else : return -1\n",
        "\n",
        "def search_all_occurrences(seq, pattern):\n",
        "  res = []\n",
        "  for i in range( len(seq) - len(pattern)+1):\n",
        "    j=0\n",
        "    while j < len(pattern) and pattern[j]==seq[i+j]:\n",
        "      j=j+1\n",
        "    if j == len(pattern):\n",
        "      res.append(i)\n",
        "  return res\n",
        "seqDNA = \"ATAGAATAGATAATAGTC\"\n",
        "print ( search_first_occ(seqDNA, \"GAAT\") )\n",
        "print ( search_first_occ(seqDNA, \"TATA\") )\n",
        "print ( search_all_occurrences(seqDNA, \"AAT\") )"
      ]
    },
    {
      "cell_type": "code",
      "source": [
        ""
      ],
      "metadata": {
        "id": "h4SSAALOCh5P"
      },
      "execution_count": null,
      "outputs": []
    },
    {
      "cell_type": "code",
      "source": [
        "def test_pat_search():\n",
        "  seq = input (\"Input sequence: \")\n",
        "  pat = input (\"Input pattern: \")\n",
        "  print (pat, \" occurs in the following positions:\", )\n",
        "  print ( search_all_occurrences(seq, pat) )\n",
        "test_pat_search()"
      ],
      "metadata": {
        "colab": {
          "base_uri": "https://localhost:8080/"
        },
        "id": "Vd7AlRX7taAB",
        "outputId": "940926b0-9417-4f38-96b4-688c0123d298"
      },
      "execution_count": null,
      "outputs": [
        {
          "output_type": "stream",
          "name": "stdout",
          "text": [
            "Input sequence: AGAGAGA\n",
            "Input pattern: AGA\n",
            "AGA  occurs in the following positions:\n",
            "[0, 2, 4]\n"
          ]
        }
      ]
    },
    {
      "cell_type": "code",
      "source": [
        "DNA_Codons = {\n",
        "    # 'M' - START, '_' - STOP\n",
        "    \"GCT\": \"A\", \"GCC\": \"A\", \"GCA\": \"A\", \"GCG\": \"A\",\n",
        "    \"TGT\": \"C\", \"TGC\": \"C\",\n",
        "    \"GAT\": \"D\", \"GAC\": \"D\",\n",
        "    \"GAA\": \"E\", \"GAG\": \"E\",\n",
        "    \"TTT\": \"F\", \"TTC\": \"F\",\n",
        "    \"GGT\": \"G\", \"GGC\": \"G\", \"GGA\": \"G\", \"GGG\": \"G\",\n",
        "    \"CAT\": \"H\", \"CAC\": \"H\",\n",
        "    \"ATA\": \"I\", \"ATT\": \"I\", \"ATC\": \"I\",\n",
        "    \"AAA\": \"K\", \"AAG\": \"K\",\n",
        "    \"TTA\": \"L\", \"TTG\": \"L\", \"CTT\": \"L\", \"CTC\": \"L\", \"CTA\": \"L\", \"CTG\": \"L\",\n",
        "    \"ATG\": \"M\",\n",
        "    \"AAT\": \"N\", \"AAC\": \"N\",\n",
        "    \"CCT\": \"P\", \"CCC\": \"P\", \"CCA\": \"P\", \"CCG\": \"P\",\n",
        "    \"CAA\": \"Q\", \"CAG\": \"Q\",\n",
        "    \"CGT\": \"R\", \"CGC\": \"R\", \"CGA\": \"R\", \"CGG\": \"R\", \"AGA\": \"R\", \"AGG\": \"R\",\n",
        "    \"TCT\": \"S\", \"TCC\": \"S\", \"TCA\": \"S\", \"TCG\": \"S\", \"AGT\": \"S\", \"AGC\": \"S\",\n",
        "    \"ACT\": \"T\", \"ACC\": \"T\", \"ACA\": \"T\", \"ACG\": \"T\",\n",
        "    \"GTT\": \"V\", \"GTC\": \"V\", \"GTA\": \"V\", \"GTG\": \"V\",\n",
        "    \"TGG\": \"W\",\n",
        "    \"TAT\": \"Y\", \"TAC\": \"Y\",\n",
        "    \"TAA\": \"_\", \"TAG\": \"_\", \"TGA\": \"_\"\n",
        "}"
      ],
      "metadata": {
        "id": "K_MQrJ8fy3en"
      },
      "execution_count": null,
      "outputs": []
    },
    {
      "cell_type": "markdown",
      "source": [
        "1. Write a Python function that, given a DNA sequence, allows to detect if there are repeated sequences of size k (where k should be passed as an argument to the function).\n",
        "130 Chapter 5\n",
        "The result should be a dictionary with sub-sequences as keys, and their frequency as values."
      ],
      "metadata": {
        "id": "B5BSmxsnuRqi"
      }
    },
    {
      "cell_type": "code",
      "source": [
        "class Bio_seq:\n",
        "  def __init__(self, seq, seq_type = 'DNA'):\n",
        "    self.seq = seq.upper()\n",
        "    self.seq_type = seq_type\n",
        "    \n",
        "  # к хэмжээтэй дэд дараалал өгөгдсөн дараалалд оршиж байна уу эсэхийг шалгана. \n",
        "  # Хэрвээ оршиж байвал түлхүүр нь тухайн дэд дараалал ба утга нь хэдэн удаа дэд дараалал давтагдсан тоо болох dictionary буцаана.\n",
        "  def k_freq(self, seq,k = 4):\n",
        "    codon_lst = []\n",
        "    dct = {}\n",
        "    \n",
        "    for i in range(0, len(seq), k):\n",
        "      codon_lst.append(seq[i:i+k])\n",
        "    \n",
        "    for s in codon_lst:\n",
        "      if(s in dct): \n",
        "        dct[s] += 1\n",
        "      else: dct[s] = 1\n",
        "  \n",
        "    return dct\n",
        "    \n",
        "seq = \"ACGGTGCTAACGGTGCTA\"\n",
        "sqq = \"ACGGACGGACGGAAAAACGGACGGACGGAAAA\"\n",
        "dna = Bio_seq(seq)\n",
        "print(\"к хэмжээтэй дараалал ба давтагдсан тоо\", dna.k_freq(sqq, 4))"
      ],
      "metadata": {
        "colab": {
          "base_uri": "https://localhost:8080/"
        },
        "id": "AsiTm2hQuSPj",
        "outputId": "35e2cc7c-264d-49b3-c250-0760da28c9df"
      },
      "execution_count": null,
      "outputs": [
        {
          "output_type": "stream",
          "name": "stdout",
          "text": [
            "к хэмжээтэй дараалал ба давтагдсан тоо {'ACGG': 6, 'AAAA': 2}\n"
          ]
        }
      ]
    },
    {
      "cell_type": "markdown",
      "source": [
        "Most introns can be recognized by their consensus sequence which is defined as: GT\n",
        ". . . TACTAAC . . . AC, where . . . mean an unknown number of nucleotides (between 1\n",
        "and 10). Write a Python function that, given a DNA sequence, checks if it contains an intron, according to this definition. The result should be a list with all initial positions of the\n",
        "introns (empty list if there are none)."
      ],
      "metadata": {
        "id": "C2lgyDpJweN-"
      }
    },
    {
      "cell_type": "code",
      "source": [
        "introns = \"GT . . . TACTAAC . . . AC\"\n",
        "from re import finditer\n",
        "\n",
        "def find_introns(seq):\n",
        "  first = finditer(\"GT\", seq)\n",
        "  if not first:\n",
        "    return None\n",
        "  \n",
        "  second = finditer(\"TACTAAC\",seq)\n",
        "  if not second:\n",
        "    return None\n",
        "  \n",
        "  third = finditer(\"AC\",seq)\n",
        "  if not third:\n",
        "    return None\n",
        "  \n",
        "  res1 = []\n",
        "  res2 = []\n",
        "  res3 = []\n",
        "\n",
        "  for x in first:\n",
        "    res1.append(x.span()[0])\n",
        "  \n",
        "  for x in second:\n",
        "    res2.append(x.span()[0])\n",
        "  \n",
        "  for x in third:\n",
        "    res3.append(x.span()[0])\n",
        "\n",
        "  return res1,res2,res3\n",
        "\n",
        "s = \"GCCGGCGCCCAAGUACUCAGAUCCGUUCCACUGGUAGAAU\"\n",
        "\n",
        "find_introns(\"GTAAAGGGAATACTAACFDGSWEGHGRFACFEFGR\")\n"
      ],
      "metadata": {
        "colab": {
          "base_uri": "https://localhost:8080/"
        },
        "id": "ydPoqm8ewgqq",
        "outputId": "4031cf2c-80bd-4974-e359-4d15ff857323"
      },
      "execution_count": null,
      "outputs": [
        {
          "output_type": "execute_result",
          "data": {
            "text/plain": [
              "([0], [10], [11, 15, 28])"
            ]
          },
          "metadata": {},
          "execution_count": 21
        }
      ]
    },
    {
      "cell_type": "markdown",
      "source": [
        "In many proteins present in the membrane, there is a conserved motif that allows them to\n",
        "be identified in the transport process of these protein by the endosomes to be degraded in\n",
        "the lysosomes. This motif occurs in the last 10 positions of the protein, being characterized by the aminoacid tyrosine (Y), followed by any two aminoacids and terminating in\n",
        "a hydrophobic aminoacid of the following set – phenylalanine (F), tyrosine (Y) or threonine (T).\n",
        "a. Write a function that, given a protein (sequence of aminoacids), returns an integer\n",
        "value indicating the position where the motif occurs in the sequence or −1 if it does\n",
        "not occur.\n",
        "b. Write a function that, given a list of protein sequences, returns a list of tuples, containing the sequences that contain the previous motif (in the first position of the\n",
        "tuple), and the position where it occurs (in the second position). Use the previous\n",
        "function"
      ],
      "metadata": {
        "id": "lKWWDJ8gw5pS"
      }
    },
    {
      "cell_type": "code",
      "source": [
        ""
      ],
      "metadata": {
        "id": "KDRlbqbx4jJr"
      },
      "execution_count": null,
      "outputs": []
    },
    {
      "cell_type": "markdown",
      "source": [
        "Write a function that given two sequences of the same length, determines if they have at\n",
        "most two d mismatches (d is an argument of the function). The function returns True\n",
        "if the number of mismatches is less or equal to d, and False otherwise. Using the previous function, write another function to find all approximate matches of a pattern in a\n",
        "sequence. An approximate match of the pattern can have at most d characters that do not\n",
        "match (d is an argument of the function)."
      ],
      "metadata": {
        "id": "hPYiTADfiiFd"
      }
    },
    {
      "cell_type": "code",
      "source": [
        "def match(seq1, seq2, seq, d, patt = \"CTA\"):\n",
        "  count = 0\n",
        "  lst = []\n",
        "  m = \"\"\n",
        "  n = len(patt)\n",
        "  for i in range(0,len(seq1),1):\n",
        "    if(seq1[i] != seq2[i]):\n",
        "      count += 1\n",
        "  for i in range(0, len(seq), n):\n",
        "    if(seq[i:i+n] == patt):\n",
        "      m += seq[i:i+n]\n",
        "  repStr = seq.replace(patt, \"\")\n",
        "  print(\"pattern hassan seq\", repStr)\n",
        "  if(len(repStr) > d):\n",
        "    print(\"don't match\")\n",
        "  else: print(\"match\", m)\n",
        "\n",
        "  if(count <= d):\n",
        "    return True\n",
        "  else: return False"
      ],
      "metadata": {
        "id": "nE8zuIISijrp"
      },
      "execution_count": null,
      "outputs": []
    },
    {
      "cell_type": "code",
      "source": [
        "seq1 = \"ACGAACGACGACAGCGACGACCAG\"\n",
        "seq2 = \"AGGTGAGAGCGTAGAGAGAGAGGA\"\n",
        "seq = \"ACGAGAAGGAGGAGGAGGAG\"\n",
        "print(match(seq1, seq2, seq, 10, 'CTA'))"
      ],
      "metadata": {
        "colab": {
          "base_uri": "https://localhost:8080/"
        },
        "id": "LdmTdkl4j1yK",
        "outputId": "e07b722a-92e2-4dd0-c402-6e59a32773f9"
      },
      "execution_count": null,
      "outputs": [
        {
          "output_type": "stream",
          "name": "stdout",
          "text": [
            "pattern hassan seq ACGAGAAGGAGGAGGAGGAG\n",
            "don't match\n",
            "False\n"
          ]
        }
      ]
    },
    {
      "cell_type": "markdown",
      "source": [
        "5. Write a function that reads a file in the FASTA format and returns a list with all sequences."
      ],
      "metadata": {
        "id": "bn1wI4PTnt-y"
      }
    },
    {
      "cell_type": "code",
      "source": [
        "from pprint import pprint\n",
        "\n",
        "fasta_file = \"fasta.txt\"\n",
        "\n",
        "def parse_fasta(fname):\n",
        "    contents = []\n",
        "    with open(fname, \"r\") as fh:\n",
        "        for line in fh:\n",
        "            contents.append(line)\n",
        "    return contents\n",
        "\n",
        "fasta = parse_fasta(fasta_file)\n",
        "pprint(fasta)"
      ],
      "metadata": {
        "colab": {
          "base_uri": "https://localhost:8080/"
        },
        "id": "D65k7qj9lItr",
        "outputId": "4e26ef85-cbc3-4c7b-dff9-d9bc5585559b"
      },
      "execution_count": null,
      "outputs": [
        {
          "output_type": "stream",
          "name": "stdout",
          "text": [
            "['GGCAGATTCCCCCTAGACCCGCCCGCACCATGGTCAGGCATGCCCCTCCTCATCGCTGGGCACAGCCCAGAGGGT\\n',\n",
            " 'ATAAACAGTGCTGGAGGCTGGCGGGGCAGGCCAGCTGAGTCCTGAGCAGCAGCCCAGCGCAGCCACCGAGACACC\\n',\n",
            " 'ATGAGAGCCCTCACACTCCTCGCCCTATTGGCCCTGGCCGCACTTTGCATCGCTGGCCAGGCAGGTGAGTGCCCC\\n',\n",
            " 'CACCTCCCCTCAGGCCGCATTGCAGTGGGGGCTGAGAGGAGGAAGCACCATGGCCCACCTCTTCTCACCCCTTTG\\n',\n",
            " 'GCTGGCAGTCCCTTTGCAGTCTAACCACCTTGTTGCAGGCTCAATCCATTTGCCCCAGCTCTGCCCTTGCAGAGG\\n',\n",
            " 'GAGAGGAGGGAAGAGCAAGCTGCCCGAGACGCAGGGGAAGGAGGATGAGGGCCCTGGGGATGAGCTGGGGTGAAC\\n',\n",
            " 'CAGGCTCCCTTTCCTTTGCAGGTGCGAAGCCCAGCGGTGCAGAGTCCAGCAAAGGTGCAGGTATGAGGATGGACC\\n',\n",
            " 'TGATGGGTTCCTGGACCCTCCCCTCTCACCCTGGTCCCTCAGTCTCATTCCCCCACTCCTGCCACCTCCTGTCTG\\n',\n",
            " 'GCCATCAGGAAGGCCAGCCTGCTCCCCACCTGATCCTCCCAAACCCAGAGCCACCTGATGCCTGCCCCTCTGCTC\\n',\n",
            " 'CACAGCCTTTGTGTCCAAGCAGGAGGGCAGCGAGGTAGTGAAGAGACCCAGGCGCTACCTGTATCAATGGCTGGG\\n',\n",
            " 'GTGAGAGAAAAGGCAGAGCTGGGCCAAGGCCCTGCCTCTCCGGGATGGTCTGTGGGGGAGCTGCAGCAGGGAGTG\\n',\n",
            " 'GCCTCTCTGGGTTGTGGTGGGGGTACAGGCAGCCTGCCCTGGTGGGCACCCTGGAGCCCCATGTGTAGGGAGAGG\\n',\n",
            " 'AGGGATGGGCATTTTGCACGGGGGCTGATGCCACCACGTCGGGTGTCTCAGAGCCCCAGTCCCCTACCCGGATCC\\n',\n",
            " 'CCTGGAGCCCAGGAGGGAGGTGTGTGAGCTCAATCCGGACTGTGACGAGTTGGCTGACCACATCGGCTTTCAGGA\\n',\n",
            " 'GGCCTATCGGCGCTTCTACGGCCCGGTCTAGGGTGTCGCTCTGCTGGCCTGGCCGGCAACCCCAGTTCTGCTCCT\\n',\n",
            " 'CTCCAGGCACCCTTCTTTCCTCTTCCCCTTGCCCTTGCCCTGACCTCCCAGCCCTATGGATGTGGGGTCCCCATC\\n',\n",
            " 'ATCCCAGCTGCTCCCAAATAAACTCCAGAAG']\n"
          ]
        }
      ]
    }
  ]
}