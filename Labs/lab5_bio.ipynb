{
  "cells": [
    {
      "cell_type": "markdown",
      "id": "5d981bdb",
      "metadata": {
        "id": "5d981bdb"
      },
      "source": [
        "Pairwise Sequence Alignment\n",
        "\n",
        "---\n",
        "\n"
      ]
    },
    {
      "cell_type": "code",
      "execution_count": null,
      "id": "9cd27e50",
      "metadata": {
        "id": "9cd27e50",
        "outputId": "598b6400-2b42-4254-da19-a0c019a4d0e2"
      },
      "outputs": [
        {
          "name": "stdout",
          "output_type": "stream",
          "text": [
            " TATATAGTAT\n",
            "C          \n",
            "G      *   \n",
            "A * * *  * \n",
            "T* * *  * *\n",
            "A * * *  * \n",
            "T* * *  * *\n",
            "A * * *  * \n",
            "G      *   \n",
            "A * * *  * \n",
            "T* * *  * *\n",
            "T* * *  * *\n",
            "\n",
            " TATATAGTAT\n",
            "C          \n",
            "G          \n",
            "A          \n",
            "T  *       \n",
            "A   *      \n",
            "T  * *     \n",
            "A   * *    \n",
            "G  *       \n",
            "A          \n",
            "T          \n",
            "T          \n"
          ]
        }
      ],
      "source": [
        "# тэгээр дүүргэсэн матриц үүсгэх\n",
        "def create_mat(nrows, ncols):\n",
        "    mat = []\n",
        "    for i in range(nrows):\n",
        "        mat.append([])\n",
        "        for j in range(ncols):\n",
        "            mat[i].append(0)\n",
        "    return mat\n",
        "\n",
        "# Давхцсан тэмдэгт байвал 1 болгоно\n",
        "# Ихэнх тохиолдолд шуугиан(noise) ихтэй тул үр дүнд нөлөөлөх нь түгээмэл\n",
        "def dotplot(seq1, seq2):\n",
        "    mat = create_mat(len(seq1), len(seq2))\n",
        "    for i in range(len(seq1)):\n",
        "        for j in range(len(seq2)):\n",
        "            if seq1[i] == seq2[j]:\n",
        "                mat[i][j] = 1\n",
        "    return mat\n",
        "\n",
        "# dotplot хэвлэх\n",
        "def print_dotplot(mat, s1, s2):\n",
        "    import sys\n",
        "    sys.stdout.write(\" \" + s2+\"\\n\")\n",
        "    for i in range(len(mat)):\n",
        "        sys.stdout.write(s1[i])\n",
        "        for j in range(len(mat[i])):\n",
        "            if mat[i][j] >= 1:\n",
        "                sys.stdout.write(\"*\")\n",
        "            else:\n",
        "                sys.stdout.write(\" \")\n",
        "        sys.stdout.write(\"\\n\")\n",
        "\n",
        "# Өрөгтөгсөн Dot Plots\n",
        "# Матрицыг үүсгэхдээ дарааллын байрлал бүрийг агуулсан цонхны хувьд авч үзнэ\n",
        "# Дарааллуудын харгалзах цонхнуудын ижил тэмдэгтийг тоолно.\n",
        "# Хэрэв өгөгдсөн параметр болох stringency-ээс их бол л харгалзах нүдэнд тэмдэглэнэ, үгүй бол орхино.\n",
        "def extended_dotplot (seq1, seq2, window, stringency):\n",
        "    mat = create_mat(len(seq1), len(seq2))\n",
        "    start = int(window/2)\n",
        "    for i in range(start,len(seq1)-start):\n",
        "        for j in range(start, len(seq2)-start):\n",
        "            matches = 0\n",
        "            l = j - start\n",
        "            for k in range(i-start, i+start+1):\n",
        "                if seq1[k] == seq2[l]: matches += 1\n",
        "                l += 1\n",
        "                if matches >= stringency: mat[i][j] = 1\n",
        "    return mat\n",
        "\n",
        "def test():\n",
        "    s1 = \"CGATATAGATT\"\n",
        "    s2 = \"TATATAGTAT\"\n",
        "    \n",
        "    mat1 = dotplot(s1, s2)\n",
        "    # DotPlot\n",
        "    print_dotplot(mat1, s1, s2)\n",
        "    \n",
        "    print(\"\")    \n",
        "    mat2 = extended_dotplot(s1, s2, 5, 4)\n",
        "    # Extended DotPlot\n",
        "    print_dotplot(mat2, s1, s2)\n",
        "    \n",
        "if __name__ == \"__main__\": \n",
        "    test()\n"
      ]
    },
    {
      "cell_type": "markdown",
      "id": "4509c014",
      "metadata": {
        "id": "4509c014"
      },
      "source": [
        "## Дараалал зэрэгцүүлэлт ба Оновчлолын асуудал(Sequence Alignment as an Optimization Problem)\n",
        "\n",
        "Дараалал зэрэгцүүлэлтийн процесс нь оновчлолын асуудал гэдгийг ойлгох хэрэгтэй. Ө/х хэд хэдэн боломжит шийдүүдээс хамгийн сайныг нь сонгодог."
      ]
    },
    {
      "cell_type": "markdown",
      "id": "528f414e",
      "metadata": {
        "id": "528f414e"
      },
      "source": [
        "* Дараалал зэрэгцүүлэлтийн хувьд боломжит шийдүүд нь дараалалд зай (gaps) оруулах байрлалуудын комбинац бна.\n",
        "    * Оролт: Нэгдсэн цагаан толгой дээх хоёр дараалал; зэрэгцүүлэлтийн шийд бүрийг үнэлэх зорилтын функц;\n",
        "    * Гаралт: Дараалалууд дээрх тэмдэгтүүд хоорондын оновчтой харгалзуулзалт (зайг тохиромжтой байрлалд оруулах)\n",
        "\n"
      ]
    },
    {
      "cell_type": "markdown",
      "id": "13e8006a",
      "metadata": {
        "id": "13e8006a"
      },
      "source": [
        "### Зорилгын функц\n",
        "\n",
        "* Ижил тэмдэгтэй (matches)** Баганад 1, **ялгаатай тэмдэгтэй (mismatches)** болон **зай(gaps)** баганад 0утга\n",
        "\n",
        "* Био дарааалал зэрэгцүүлэллтийн зорилгын функц нь ихэвчлэн илүү ерөнхий уян хатан байх үүднээс хоёр төрөлтэй.\n",
        "    > **Орлуулгын матриц (substitution matrix):** Баганад нь зай ороогүй байх бүх тохиолдлын онооны утгыг агуулдаг\n",
        "    > **Зайн торгуулийн*(gap penalty) функц: Цоорхой (эсвэл загвараас хамаарсан зайн дараалал) - г хэрхэн торгохыг тодорхойлдог."
      ]
    },
    {
      "cell_type": "markdown",
      "id": "13b3de9a",
      "metadata": {
        "id": "13b3de9a"
      },
      "source": [
        "**Implementing the Calculation of the Objective Function**"
      ]
    },
    {
      "cell_type": "code",
      "execution_count": null,
      "id": "1e1ea683",
      "metadata": {
        "id": "1e1ea683",
        "outputId": "4c9fe517-45ed-4538-925a-645a069c24cc"
      },
      "outputs": [
        {
          "name": "stdout",
          "output_type": "stream",
          "text": [
            "{'AA': 1, 'AC': 0, 'AG': 0, 'AT': 0, 'CA': 0, 'CC': 1, 'CG': 0, 'CT': 0, 'GA': 0, 'GC': 0, 'GG': 1, 'GT': 0, 'TA': 0, 'TC': 0, 'TG': 0, 'TT': 1}\n"
          ]
        }
      ],
      "source": [
        "def create_submat (match, mismatch, alphabet):\n",
        "    sm = {}\n",
        "    for c1 in alphabet:\n",
        "        for c2 in alphabet:\n",
        "            if (c1 == c2):\n",
        "                sm[c1+c2] = match\n",
        "            else:\n",
        "                sm[c1+c2] = mismatch\n",
        "    return sm\n",
        "\n",
        "def test_DNA():\n",
        "    sm = create_submat(1,0,\"ACGT\")\n",
        "    print(sm)\n",
        "\n",
        "test_DNA()"
      ]
    },
    {
      "cell_type": "code",
      "execution_count": null,
      "id": "44886e70",
      "metadata": {
        "id": "44886e70",
        "outputId": "485257c4-7719-4eff-f95c-4e4fbac96fdc"
      },
      "outputs": [
        {
          "name": "stdout",
          "output_type": "stream",
          "text": [
            "{'AA': 4, 'AR': -1, 'AN': -2, 'AD': -2, 'AC': 0, 'AQ': -1, 'AE': -1, 'AG': 0, 'AH': -2, 'AI': -1, 'AL': -1, 'AK': -1, 'AM': -1, 'AF': -2, 'AP': -1, 'AS': 1, 'AT': 0, 'AW': -3, 'AY': -2, 'AV': 0, 'RA': -1, 'RR': 5, 'RN': 0, 'RD': -2, 'RC': -3, 'RQ': 1, 'RE': 0, 'RG': -2, 'RH': 0, 'RI': -3, 'RL': -2, 'RK': 2, 'RM': -1, 'RF': -3, 'RP': -2, 'RS': -1, 'RT': -1, 'RW': -3, 'RY': -2, 'RV': -3, 'NA': -2, 'NR': 0, 'NN': 6, 'ND': 1, 'NC': -3, 'NQ': 0, 'NE': 0, 'NG': 0, 'NH': 1, 'NI': -3, 'NL': -3, 'NK': 0, 'NM': -2, 'NF': -3, 'NP': -2, 'NS': 1, 'NT': 0, 'NW': -4, 'NY': -2, 'NV': -3, 'DA': -2, 'DR': -2, 'DN': 1, 'DD': 6, 'DC': -3, 'DQ': 0, 'DE': 2, 'DG': -1, 'DH': -1, 'DI': -3, 'DL': -4, 'DK': -1, 'DM': -3, 'DF': -3, 'DP': -1, 'DS': 0, 'DT': -1, 'DW': -4, 'DY': -3, 'DV': -3, 'CA': 0, 'CR': -3, 'CN': -3, 'CD': -3, 'CC': 9, 'CQ': -3, 'CE': -4, 'CG': -3, 'CH': -3, 'CI': -1, 'CL': -1, 'CK': -3, 'CM': -1, 'CF': -2, 'CP': -3, 'CS': -1, 'CT': -1, 'CW': -2, 'CY': -2, 'CV': -1, 'QA': -1, 'QR': 1, 'QN': 0, 'QD': 0, 'QC': -3, 'QQ': 5, 'QE': 2, 'QG': -2, 'QH': 0, 'QI': -3, 'QL': -2, 'QK': 1, 'QM': 0, 'QF': -3, 'QP': -1, 'QS': 0, 'QT': -1, 'QW': -2, 'QY': -1, 'QV': -2, 'EA': -1, 'ER': 0, 'EN': 0, 'ED': 2, 'EC': -4, 'EQ': 2, 'EE': 5, 'EG': -2, 'EH': 0, 'EI': -3, 'EL': -3, 'EK': 1, 'EM': -2, 'EF': -3, 'EP': -1, 'ES': 0, 'ET': -1, 'EW': -3, 'EY': -2, 'EV': -2, 'GA': 0, 'GR': -2, 'GN': 0, 'GD': -1, 'GC': -3, 'GQ': -2, 'GE': -2, 'GG': 6, 'GH': -2, 'GI': -4, 'GL': -4, 'GK': -2, 'GM': -3, 'GF': -3, 'GP': -2, 'GS': 0, 'GT': -2, 'GW': -2, 'GY': -3, 'GV': -3, 'HA': -2, 'HR': 0, 'HN': 1, 'HD': -1, 'HC': -3, 'HQ': 0, 'HE': 0, 'HG': -2, 'HH': 8, 'HI': -3, 'HL': -3, 'HK': -1, 'HM': -2, 'HF': -1, 'HP': -2, 'HS': -1, 'HT': -2, 'HW': -2, 'HY': 2, 'HV': -3, 'IA': -1, 'IR': -3, 'IN': -3, 'ID': -3, 'IC': -1, 'IQ': -3, 'IE': -3, 'IG': -4, 'IH': -3, 'II': 4, 'IL': 2, 'IK': -3, 'IM': 1, 'IF': 0, 'IP': -3, 'IS': -2, 'IT': -1, 'IW': -3, 'IY': -1, 'IV': 3, 'LA': -1, 'LR': -2, 'LN': -3, 'LD': -4, 'LC': -1, 'LQ': -2, 'LE': -3, 'LG': -4, 'LH': -3, 'LI': 2, 'LL': 4, 'LK': -2, 'LM': 2, 'LF': 0, 'LP': -3, 'LS': -2, 'LT': -1, 'LW': -2, 'LY': -1, 'LV': 1, 'KA': -1, 'KR': 2, 'KN': 0, 'KD': -1, 'KC': -3, 'KQ': 1, 'KE': 1, 'KG': -2, 'KH': -1, 'KI': -3, 'KL': -2, 'KK': 5, 'KM': -1, 'KF': -3, 'KP': -1, 'KS': 0, 'KT': -1, 'KW': -3, 'KY': -2, 'KV': -2, 'MA': -1, 'MR': -1, 'MN': -2, 'MD': -3, 'MC': -1, 'MQ': 0, 'ME': -2, 'MG': -3, 'MH': -2, 'MI': 1, 'ML': 2, 'MK': -1, 'MM': 5, 'MF': 0, 'MP': -2, 'MS': -1, 'MT': -1, 'MW': -1, 'MY': -1, 'MV': 1, 'FA': -2, 'FR': -3, 'FN': -3, 'FD': -3, 'FC': -2, 'FQ': -3, 'FE': -3, 'FG': -3, 'FH': -1, 'FI': 0, 'FL': 0, 'FK': -3, 'FM': 0, 'FF': 6, 'FP': -4, 'FS': -2, 'FT': -2, 'FW': 1, 'FY': 3, 'FV': -1, 'PA': -1, 'PR': -2, 'PN': -2, 'PD': -1, 'PC': -3, 'PQ': -1, 'PE': -1, 'PG': -2, 'PH': -2, 'PI': -3, 'PL': -3, 'PK': -1, 'PM': -2, 'PF': -4, 'PP': 7, 'PS': -1, 'PT': -1, 'PW': -4, 'PY': -3, 'PV': -2, 'SA': 1, 'SR': -1, 'SN': 1, 'SD': 0, 'SC': -1, 'SQ': 0, 'SE': 0, 'SG': 0, 'SH': -1, 'SI': -2, 'SL': -2, 'SK': 0, 'SM': -1, 'SF': -2, 'SP': -1, 'SS': 4, 'ST': 1, 'SW': -3, 'SY': -2, 'SV': -2, 'TA': 0, 'TR': -1, 'TN': 0, 'TD': -1, 'TC': -1, 'TQ': -1, 'TE': -1, 'TG': -2, 'TH': -2, 'TI': -1, 'TL': -1, 'TK': -1, 'TM': -1, 'TF': -2, 'TP': -1, 'TS': 1, 'TT': 5, 'TW': -2, 'TY': -2, 'TV': 0, 'WA': -3, 'WR': -3, 'WN': -4, 'WD': -4, 'WC': -2, 'WQ': -2, 'WE': -3, 'WG': -2, 'WH': -2, 'WI': -3, 'WL': -2, 'WK': -3, 'WM': -1, 'WF': 1, 'WP': -4, 'WS': -3, 'WT': -2, 'WW': 11, 'WY': 2, 'WV': -3, 'YA': -2, 'YR': -2, 'YN': -2, 'YD': -3, 'YC': -2, 'YQ': -1, 'YE': -2, 'YG': -3, 'YH': 2, 'YI': -1, 'YL': -1, 'YK': -2, 'YM': -1, 'YF': 3, 'YP': -3, 'YS': -2, 'YT': -2, 'YW': 2, 'YY': 7, 'YV': -1, 'VA': 0, 'VR': -3, 'VN': -3, 'VD': -3, 'VC': -1, 'VQ': -2, 'VE': -2, 'VG': -3, 'VH': -3, 'VI': 3, 'VL': 1, 'VK': -2, 'VM': 1, 'VF': -1, 'VP': -2, 'VS': -2, 'VT': 0, 'VW': -3, 'VY': -1, 'VV': 4}\n"
          ]
        }
      ],
      "source": [
        "# read substitution matrix from file\n",
        "# Орлуулгын матриц \n",
        "# Цагаан толгойн тэмдэгтүүдийн боломжит хос бүрт утга онооно.\n",
        "def read_submat_file(filename):\n",
        "    sm = {}\n",
        "    f = open(filename, \"r\")\n",
        "    line = f.readline()\n",
        "    tokens = line.split(\"\\t\")\n",
        "    ns = len(tokens)\n",
        "    alphabet = []\n",
        "    for i in range(0, ns): \n",
        "        alphabet.append(tokens[i][0])\n",
        "    for i in range(0,ns):\n",
        "        line = f.readline();\n",
        "        tokens = line.split(\"\\t\");\n",
        "        for j in range(0, len(tokens)):\n",
        "            k = alphabet[i]+alphabet[j]\n",
        "            sm[k] = int(tokens[j])\n",
        "    return sm\n",
        "\n",
        "# BLOSUM (Blocks of Amino Acid Substitution Matrix) family\n",
        "# Blocks ӨС-ийн локал зэрэгцүүлэлт дээр суурилдаг.\n",
        "# Суурилсан локал зэрэгцүүлэлтийн ижил төстэйн түвшингээс хамаарсан хэд хэдэн матрицтай.\n",
        "# Жнь, BLOSUM62 матрицад ижил төсөө нь 62%-иас дээш байх зэрэгцүүлэлт ашигласан.\n",
        "def test_DNA():\n",
        "    sm = read_submat_file(\"./blosum62.mat\")\n",
        "    print(sm)\n",
        "    \n",
        "test_DNA()"
      ]
    },
    {
      "cell_type": "markdown",
      "id": "dd9e3a5b",
      "metadata": {
        "id": "dd9e3a5b"
      },
      "source": [
        "**Зай торгуулийн (gap penalty) функц**\n",
        "\n",
        "* Зай гарсан багана бүрийн тогтмол торгуулийг тодорхойлсон g параметрийг ашиглана.\n",
        "* Уургийн дараалал зэрэгцүүлэлтийн g-ийн ердийн (matched байх) утгууд нь DNA дараалал зэрэгцүүлэлт дээрх −7 -оос −12, эсвэл −2 -оос −3 хооронд хэлбэлзэж болно"
      ]
    },
    {
      "cell_type": "code",
      "execution_count": null,
      "id": "423cf481",
      "metadata": {
        "id": "423cf481",
        "outputId": "85002ba2-163a-4b3d-9f62-646b77769eb0"
      },
      "outputs": [
        {
          "name": "stdout",
          "output_type": "stream",
          "text": [
            "4\n",
            "19\n"
          ]
        }
      ],
      "source": [
        "# score of a position (column)\n",
        "def score_pos (c1, c2, sm, g):\n",
        "    if c1 == \"-\" or c2==\"-\":\n",
        "        return g\n",
        "    else:\n",
        "        return sm[c1+c2]\n",
        "\n",
        "# score of the whole alignment\n",
        "def score_align (seq1, seq2, sm, g):\n",
        "    res = 0;\n",
        "    for i in range(len(seq1)):\n",
        "        res += score_pos (seq1[i], seq2[i], sm, g)\n",
        "    return res\n",
        "\n",
        "def test_DNA():\n",
        "    sm = create_submat(2, -2, 'ACGT')\n",
        "    seq1 = \"-CAGTGCATG-ACATA\"\n",
        "    seq2 = \"TCAG-GC-TCTACAGA\"\n",
        "    g = -3\n",
        "    print(score_align(seq1, seq2, sm, g))\n",
        "    \n",
        "def test_prot():\n",
        "    sm = read_submat_file(\"./blosum62.mat\")\n",
        "    seq1 = \"LGPSSGCASRIWTKSA\"\n",
        "    seq2 = \"TGPS-G--S-IWSKSG\"\n",
        "    g = -8\n",
        "    print(score_align(seq1, seq2, sm, g))\n",
        "    \n",
        "test_DNA()\n",
        "test_prot()"
      ]
    },
    {
      "cell_type": "markdown",
      "id": "d3d8065a",
      "metadata": {
        "id": "d3d8065a"
      },
      "source": [
        "**Affine gap penalty** загвар\n",
        "\n",
        "    * Практикт өргөн хэрэглэгдэж байгаа илүү боловсронгуй хувилбар\n",
        "    * Зай эхлэхэд маш их торгууль ногдуулдаг (зай эхллүүлэх торгууль g)\n",
        "    * Зайг сунган нэмэх торгууль бага. (торгууль нь ихэвчлэн r = -1 эсвэл -2 байж болно)"
      ]
    },
    {
      "cell_type": "markdown",
      "id": "6525013f",
      "metadata": {
        "id": "6525013f"
      },
      "source": [
        "![image.png](attachment:image.png)"
      ]
    },
    {
      "cell_type": "code",
      "execution_count": null,
      "id": "8d1dee2a",
      "metadata": {
        "id": "8d1dee2a",
        "outputId": "a7818866-b5af-4d63-d9c6-83dcf1ea31c4"
      },
      "outputs": [
        {
          "name": "stdout",
          "output_type": "stream",
          "text": [
            "25\n"
          ]
        }
      ],
      "source": [
        "def score_affinegap (seq1, seq2, sm, g, r):\n",
        "    res = 0\n",
        "    ingap1 = False\n",
        "    ingap2 = False\n",
        "    for i in range(len(seq1)):\n",
        "        if seq1[i]==\"-\":\n",
        "            if ingap1: res += r\n",
        "            else:\n",
        "                ingap1 = True\n",
        "                res += g\n",
        "        elif seq2[i]==\"-\":\n",
        "            if ingap2: res += r\n",
        "            else:\n",
        "                ingap2 = True\n",
        "                res += g \n",
        "        else:\n",
        "            if ingap1: ingap1 = False\n",
        "            if ingap2: ingap2 = False\n",
        "            res += sm[seq1[i]+seq2[i]]\n",
        "    return res\n",
        "\n",
        "def test_prot():\n",
        "    sm = read_submat_file(\"./blosum62.mat\")\n",
        "    seq1 = \"LGPSSGCASRIWTKSA\"\n",
        "    seq2 = \"TGPS-G--S-IWSKSG\"\n",
        "    g = -8\n",
        "    r = -2\n",
        "    print(score_affinegap(seq1,seq2, sm,g,r))\n",
        "\n",
        "test_prot()"
      ]
    },
    {
      "cell_type": "markdown",
      "id": "471a1a08",
      "metadata": {
        "id": "471a1a08"
      },
      "source": [
        "### Дараалал зэрэгцүүлэлтэд зориулсан динамик программчлал\n",
        "\n",
        "\n",
        "**Динамик программчлал (DP)** бол **divide-and-conquer** аргад суурилсан\n",
        "оновчлолын алгоритмуудын **ерөнхий зориулалтын (general-purpose)** анги бөгөөд том\n",
        "хэмжээний асуудлыг шийдвэрлэхдээ дэд асуудлууд болон тэдгээрийн онооны шийдүүдийг дахин\n",
        "ашигладаг (дахин тооцоолдоггүй).\n",
        "\n",
        "\n",
        "Динамик программчлалын алгоритмууд\n",
        "\n",
        "    • Глобал зэрэгцүүлэлт: The Needleman-Wunsch Algorithm\n",
        "\n",
        "    • Локал зэрэгцүүлэлт: The Smith-Waterman Algorithm"
      ]
    },
    {
      "cell_type": "markdown",
      "id": "aee0877d",
      "metadata": {
        "id": "aee0877d"
      },
      "source": [
        "Смит-Уотерманы алгоритмын анхны онооны матриц нь нэг дарааллын аль ч сегментийг нөгөө дарааллын дурын байрлалд зэрэгцүүлэх боломжийг олгодог. Харин Needleman-Wunsch алгоритм дээр бүх дарааллыг тэгшитгэхийн тулд төгсгөлийн цоорхойг тооцох шаардлагатай."
      ]
    },
    {
      "cell_type": "code",
      "execution_count": null,
      "id": "22deff8e",
      "metadata": {
        "id": "22deff8e",
        "outputId": "40c19dfd-cf70-469b-a5fb-68c72c230c15"
      },
      "outputs": [
        {
          "name": "stdout",
          "output_type": "stream",
          "text": [
            "Score of optimal alignment: 9\n",
            "[0, -8, -16, -24, -32, -40]\n",
            "[-8, -2, -10, -18, -25, -33]\n",
            "[-16, 0, -4, -12, -20, -27]\n",
            "[-24, -8, 0, -7, -11, -19]\n",
            "[-32, -16, -8, 11, 3, -5]\n",
            "[-40, -24, -10, 3, 11, 9]\n",
            "[0, 3, 3, 3, 3, 3]\n",
            "[2, 1, 3, 3, 1, 3]\n",
            "[2, 1, 1, 3, 3, 1]\n",
            "[2, 2, 1, 1, 1, 3]\n",
            "[2, 2, 2, 1, 3, 3]\n",
            "[2, 2, 1, 2, 1, 1]\n",
            "PHSW-G\n",
            "-HGWAG\n"
          ]
        }
      ],
      "source": [
        "### Implementing the Needleman-Wunsch Algorithm\n",
        "## global alignment \n",
        "def needleman_Wunsch(seq1, seq2, sm, g):\n",
        "    S = [[0]]\n",
        "    T = [[0]]\n",
        "    for j in range(1, len(seq2)+1):\n",
        "        S[0].append(g * j)\n",
        "        T[0].append(3)\n",
        "    for i in range(1, len(seq1)+1):\n",
        "        S.append([g * i])\n",
        "        T.append([2])\n",
        "    for i in range(0, len(seq1)):\n",
        "        for j in range(len(seq2)):\n",
        "            s1 = S[i][j] + score_pos (seq1[i], seq2[j], sm, g); \n",
        "            s2 = S[i][j+1] + g\n",
        "            s3 = S[i+1][j] + g\n",
        "            S[i+1].append(max(s1, s2, s3))\n",
        "            T[i+1].append(max3t(s1, s2, s3))\n",
        "            \n",
        "    return (S, T)\n",
        "\n",
        "def max3t (v1, v2, v3):\n",
        "    if v1 > v2:\n",
        "        if v1 > v3: return 1\n",
        "        else: return 3\n",
        "    else:\n",
        "        if v2 > v3: return 2\n",
        "        else: return 3\n",
        "\n",
        "def recover_align (T, seq1, seq2):\n",
        "    res = [\"\", \"\"]\n",
        "    i = len(seq1)\n",
        "    j = len(seq2)\n",
        "    while i>0 or j>0:\n",
        "        if T[i][j]==1:\n",
        "            res[0] = seq1[i-1] + res[0]\n",
        "            res[1] = seq2[j-1] + res[1]\n",
        "            i -= 1\n",
        "            j -= 1\n",
        "        elif T[i][j] == 3:\n",
        "            res[0] = \"-\" + res[0]\n",
        "            res[1] = seq2[j-1] + res[1]\n",
        "            j -= 1\n",
        "        else:\n",
        "            res[0] = seq1[i-1] + res[0]\n",
        "            res[1] = \"-\" + res[1]\n",
        "            i -= 1\n",
        "    return res\n",
        "\n",
        "def print_mat (mat):\n",
        "    for i in range(0, len(mat)):\n",
        "        print(mat[i]) \n",
        "\n",
        "def test_global_alig():\n",
        "    sm = read_submat_file(\"./blosum62.mat\")\n",
        "    seq1 = \"PHSWG\"\n",
        "    seq2 = \"HGWAG\"\n",
        "    res = needleman_Wunsch(seq1, seq2, sm, -8)\n",
        "    S = res[0]\n",
        "    T = res[1]\n",
        "    print(\"Score of optimal alignment:\", S[len(seq1)][len(seq2)])\n",
        "    print_mat(S)\n",
        "    print_mat(T)\n",
        "    alig = recover_align(T, seq1, seq2)\n",
        "    print(alig[0])\n",
        "    print(alig[1])\n",
        "\n",
        "test_global_alig()"
      ]
    },
    {
      "cell_type": "markdown",
      "id": "54af91b2",
      "metadata": {
        "id": "54af91b2"
      },
      "source": [
        "**Смит-Уотерманы алгоритм**\n",
        "\n",
        "* Өмнөх алгоритмтай харьцуулахад:\n",
        "     > Оноо тооцоолох аргад ямар ч өөрчлөлт орохгүй\n",
        "     \n",
        "     > Сөрөг утга гарч ирэх хэсэг дээр нь зэрэгцүүлэлтийг эхлүүлнэ.\n",
        "     \n",
        "     > Ингэхдээ рекуррент харьцаанд 0 утгыг нэмж оруулна."
      ]
    },
    {
      "cell_type": "code",
      "execution_count": null,
      "id": "d8999c5f",
      "metadata": {
        "id": "d8999c5f",
        "outputId": "ff691ff3-51f6-4082-907a-309951cb4473"
      },
      "outputs": [
        {
          "name": "stdout",
          "output_type": "stream",
          "text": [
            "Score of optimal alignment: 19\n",
            "[0, 0, 0, 0, 0, 0]\n",
            "[0, 0, 0, 0, 0, 0]\n",
            "[0, 8, 0, 0, 0, 0]\n",
            "[0, 0, 8, 0, 1, 0]\n",
            "[0, 0, 0, 19, 11, 3]\n",
            "[0, 0, 6, 11, 19, 17]\n",
            "[0, 0, 0, 0, 0, 0]\n",
            "[0, 0, 0, 0, 0, 0]\n",
            "[0, 1, 0, 0, 0, 0]\n",
            "[0, 0, 1, 0, 1, 0]\n",
            "[0, 0, 0, 1, 3, 3]\n",
            "[0, 0, 1, 2, 1, 1]\n",
            "HSW\n",
            "HGW\n"
          ]
        }
      ],
      "source": [
        "## local alignment\n",
        "def smith_Waterman (seq1, seq2, sm, g):\n",
        "    S = [[0]]\n",
        "    T = [[0]]\n",
        "    maxscore = 0\n",
        "    for j in range(1, len(seq2)+1):\n",
        "        S[0].append(0)\n",
        "        T[0].append(0)\n",
        "    for i in range(1, len(seq1)+1):\n",
        "        S.append([0])\n",
        "        T.append([0])\n",
        "    for i in range(0, len(seq1)):\n",
        "        for j in range(len(seq2)):\n",
        "            s1 = S[i][j] + score_pos (seq1[i], seq2[j], sm, g); \n",
        "            s2 = S[i][j+1] + g\n",
        "            s3 = S[i+1][j] + g\n",
        "            b = max(s1, s2, s3)\n",
        "            if b <= 0:\n",
        "                S[i+1].append(0)\n",
        "                T[i+1].append(0)\n",
        "            else:\n",
        "                S[i+1].append(b)\n",
        "                T[i+1].append(max3t(s1, s2, s3))\n",
        "                if b > maxscore: \n",
        "                    maxscore = b\n",
        "    return (S, T, maxscore)\n",
        "\n",
        "def recover_align_local (S, T, seq1, seq2):\n",
        "    res = [\"\", \"\"]\n",
        "    i, j = max_mat(S)\n",
        "    while T[i][j]>0:\n",
        "        if T[i][j]==1:\n",
        "            res[0] = seq1[i-1] + res[0]\n",
        "            res[1] = seq2[j-1] + res[1]\n",
        "            i -= 1\n",
        "            j -= 1\n",
        "        elif T[i][j] == 3:\n",
        "            res[0] = \"-\" + res[0];\n",
        "            res[1] = seq2[j-1] + res[1] \n",
        "            j -= 1\n",
        "        elif T[i][j] == 2:\n",
        "            res[0] = seq1[i-1] + res[0]\n",
        "            res[1] = \"-\" + res[1]\n",
        "            i -= 1\n",
        "    return res\n",
        "\n",
        "def max_mat(mat):\n",
        "    maxval = mat[0][0]\n",
        "    maxrow = 0\n",
        "    maxcol = 0\n",
        "    for i in range(0,len(mat)):\n",
        "        for j in range(0, len(mat[i])):\n",
        "            if mat[i][j] > maxval:\n",
        "                maxval = mat[i][j]\n",
        "                maxrow = i\n",
        "                maxcol = j\n",
        "    return (maxrow,maxcol)\n",
        "\n",
        "def test_local_alig():\n",
        "    sm = read_submat_file(\"./blosum62.mat\")\n",
        "    seq1 = \"PHSWG\"\n",
        "    seq2 = \"HGWAG\"\n",
        "    res = smith_Waterman(seq1, seq2, sm, -8)\n",
        "    S = res[0]\n",
        "    T = res[1]\n",
        "    print(\"Score of optimal alignment:\", res[2])\n",
        "    print_mat(S)\n",
        "    print_mat(T)\n",
        "    alinL= recover_align_local(S, T, seq1, seq2)\n",
        "    print(alinL[0])\n",
        "    print(alinL[1])\n",
        "    \n",
        "test_local_alig()"
      ]
    },
    {
      "cell_type": "markdown",
      "id": "ee456022",
      "metadata": {
        "id": "ee456022"
      },
      "source": [
        "**Special Cases of Sequence Alignment**"
      ]
    },
    {
      "cell_type": "code",
      "execution_count": null,
      "id": "c3f58a13",
      "metadata": {
        "id": "c3f58a13",
        "outputId": "7ed2dbfe-9644-4325-dffa-b2d23b06a4f0"
      },
      "outputs": [
        {
          "name": "stdout",
          "output_type": "stream",
          "text": [
            "TAG\n"
          ]
        }
      ],
      "source": [
        "def identity(seq1, seq2, alphabet = \"ACGT\"):\n",
        "    sm = create_submat(1,0,alphabet) \n",
        "    S,_ = needleman_Wunsch(seq1, seq2, sm, 0)\n",
        "    equal = S[len(seq1)][len(seq2)]\n",
        "    return equal / max(len(seq1), len(seq2))  \n",
        "\n",
        "def edit_distance(seq1, seq2, alphabet = \"ACTG\"):\n",
        "    sm = create_submat(0, -1, alphabet) \n",
        "    S = needleman_Wunsch(seq1, seq2,sm,-1)[0]\n",
        "    res = -1*S[len(seq1)][len(seq2)]\n",
        "    return res\n",
        "\n",
        "def longest_common_subseq (seq1, seq2, alphabet = \"ACGT\"):\n",
        "    sm = create_submat(1, 0, alphabet) \n",
        "    _,T = needleman_Wunsch(seq1, seq2, sm, 0)\n",
        "    alin = recover_align(T, seq1, seq2)\n",
        "    \n",
        "    sizeal = len(alin[0])\n",
        "    lcs = \"\"\n",
        "    for i in range(sizeal):\n",
        "        if alin[0][i] == alin[1][i]:\n",
        "            lcs += alin[0][i]\n",
        "    return lcs\n",
        "\n",
        "def longest_common_string (seq1, seq2, alphabet = \"ACGT\"):\n",
        "    m = max(len(seq1), len(seq2))\n",
        "    pen = -1 * (m+1)\n",
        "    sm = create_submat(1, pen, alphabet)\n",
        "    S,T,_ = smith_Waterman(seq1, seq2, sm, pen)\n",
        "    alinL= recover_align_local(S, T, seq1, seq2)\n",
        "    return alinL[0]\n",
        "\n",
        "print(longest_common_string(\"ATAGAT\",\"TTAGT\"))"
      ]
    },
    {
      "cell_type": "markdown",
      "id": "f9621a3b",
      "metadata": {
        "id": "f9621a3b"
      },
      "source": [
        "**Pairwise Sequence Alignment in BioPython**\n",
        "\n",
        "http://biopython.org/DIST/docs/api/Bio.pairwise2-module.html"
      ]
    },
    {
      "cell_type": "code",
      "execution_count": null,
      "id": "54547297",
      "metadata": {
        "scrolled": true,
        "id": "54547297",
        "outputId": "df170312-d205-4c02-9a58-373ce44a0bd8"
      },
      "outputs": [
        {
          "name": "stdout",
          "output_type": "stream",
          "text": [
            "7\n",
            "ATAGAG-A-ATAG-\n",
            "|| | | | |||| \n",
            "AT-G-GCAGATAGA\n",
            "  Score=9\n",
            "\n",
            "ATAG--AGAATAG-\n",
            "|| |  || |||| \n",
            "AT-GGCAG-ATAGA\n",
            "  Score=9\n",
            "\n",
            "ATA-G-AGAATAG-\n",
            "||  | || |||| \n",
            "AT-GGCAG-ATAGA\n",
            "  Score=9\n",
            "\n",
            "ATAG-AGAATAG-\n",
            "||.| || |||| \n",
            "ATGGCAG-ATAGA\n",
            "  Score=9\n",
            "\n",
            "ATAG--AGAATAG-\n",
            "|| |  ||| ||| \n",
            "AT-GGCAGA-TAGA\n",
            "  Score=9\n",
            "\n",
            "ATA-G-AGAATAG-\n",
            "||  | ||| ||| \n",
            "AT-GGCAGA-TAGA\n",
            "  Score=9\n",
            "\n",
            "ATAG-AGAATAG-\n",
            "||.| ||| ||| \n",
            "ATGGCAGA-TAGA\n",
            "  Score=9\n",
            "\n",
            "KEVLA-\n",
            " ||.| \n",
            "-EVSAW\n",
            "  Score=3\n",
            "\n",
            "4 GAGAAT\n",
            "  ||||||\n",
            "3 GAGAAT\n",
            "  Score=18\n",
            "\n",
            "2 EVLA\n",
            "  ||.|\n",
            "1 EVSA\n",
            "  Score=11\n",
            "\n"
          ]
        },
        {
          "name": "stderr",
          "output_type": "stream",
          "text": [
            "/home/jakitcs/anaconda3/lib/python3.9/site-packages/Bio/SubsMat/__init__.py:126: BiopythonDeprecationWarning: Bio.SubsMat has been deprecated, and we intend to remove it in a future release of Biopython. As an alternative, please consider using Bio.Align.substitution_matrices as a replacement, and contact the Biopython developers if you still need the Bio.SubsMat module.\n",
            "  warnings.warn(\n"
          ]
        }
      ],
      "source": [
        "from Bio import pairwise2\n",
        "from Bio.pairwise2 import format_alignment\n",
        "from Bio.SubsMat import MatrixInfo \n",
        "\n",
        "alignments = pairwise2.align.globalxx(\"ATAGAGAATAG\", \"ATGGCAGATAGA\")\n",
        "\n",
        "print (len(alignments))\n",
        "\n",
        "for a in alignments: \n",
        "    print(format_alignment(*a))\n",
        "\n",
        "matrix = MatrixInfo.blosum62\n",
        "for a in pairwise2.align.globalds(\"KEVLA\", \"EVSAW\", matrix,-4,-1):\n",
        "    print(format_alignment(*a))\n",
        "    \n",
        "\n",
        "local_dna = pairwise2.align.localms(\"ATAGAGAATAG\", \"GGGAGAATC\", 3,-2,-3,-3)\n",
        "for a in local_dna: print(format_alignment(*a))\n",
        "\n",
        "local_prot = pairwise2.align.localds(\"KEVLA\", \"EVSAW\", matrix,-4,-1)\n",
        "for a in local_prot: print(format_alignment(*a))\n"
      ]
    },
    {
      "cell_type": "markdown",
      "source": [
        "Write and test a function that, given a binary matrix (with elements 0 or 1), coming from\n",
        "a function that creates dotplot matrices, identifies the largest diagonal containing ones\n",
        "(it can be the main diagonal or any other diagonal in the matrix). The result should be a\n",
        "tuple with: the size of the diagonal, the row where it begins, the column where it begins."
      ],
      "metadata": {
        "id": "V7M9zpMoPlQ2"
      },
      "id": "V7M9zpMoPlQ2"
    },
    {
      "cell_type": "code",
      "execution_count": null,
      "id": "a309f973",
      "metadata": {
        "colab": {
          "base_uri": "https://localhost:8080/"
        },
        "id": "a309f973",
        "outputId": "de3dfcb8-9277-4e40-a76d-2454be73a65d"
      },
      "outputs": [
        {
          "output_type": "stream",
          "name": "stdout",
          "text": [
            "defaultdict(<class 'list'>, {0: [1, 1, 1], -1: [0, 0], -2: [0], 1: [0, 0], 2: [0]}) \n",
            " defaultdict(<class 'list'>, {0: [1], 1: [0, 0], 2: [0, 1, 0], 3: [0, 0], 4: [1]})\n"
          ]
        }
      ],
      "source": [
        "import collections\n",
        "from collections import defaultdict\n",
        "\n",
        "\n",
        "rows,cols = 3,3\n",
        "matrix = [[1, 0, 0],\n",
        "          [0, 1, 0],\n",
        "          [0, 0, 1]]\n",
        "\n",
        "diagonal1 = defaultdict(list) # For the top right to bottom left\n",
        "diagonal2 = defaultdict(list) # For the top left to bottom right\n",
        "for i in range(rows):\n",
        "    for j in range(cols):\n",
        "        diagonal1[i-j].append(matrix[i][j])\n",
        "        diagonal2[i+j].append(matrix[i][j])\n",
        "print(diagonal1,'\\n',diagonal2)\n",
        "\n"
      ]
    }
  ],
  "metadata": {
    "kernelspec": {
      "display_name": "Python 3 (ipykernel)",
      "language": "python",
      "name": "python3"
    },
    "language_info": {
      "codemirror_mode": {
        "name": "ipython",
        "version": 3
      },
      "file_extension": ".py",
      "mimetype": "text/x-python",
      "name": "python",
      "nbconvert_exporter": "python",
      "pygments_lexer": "ipython3",
      "version": "3.9.7"
    },
    "colab": {
      "name": "lab5-bio.ipynb",
      "provenance": [],
      "collapsed_sections": []
    }
  },
  "nbformat": 4,
  "nbformat_minor": 5
}