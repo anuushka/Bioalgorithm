{
  "nbformat": 4,
  "nbformat_minor": 0,
  "metadata": {
    "colab": {
      "name": "lab1-bio.ipynb",
      "provenance": [],
      "collapsed_sections": []
    },
    "kernelspec": {
      "name": "python3",
      "display_name": "Python 3"
    },
    "language_info": {
      "name": "python"
    }
  },
  "cells": [
    {
      "cell_type": "markdown",
      "source": [
        " 3a. Reads a value of temperature in Celsius degrees (ºC) and converts it into a temperature in Fahrenheit degrees (ºF)."
      ],
      "metadata": {
        "id": "qC57ZULy3K_O"
      }
    },
    {
      "cell_type": "code",
      "source": [
        "celsius = float(input())\n",
        "fahrenheit = (celsius * 1.8) + 32\n",
        "print('%0.1f degree Celsius is equal to %0.1f degree Fahrenheit' %(celsius,fahrenheit))"
      ],
      "metadata": {
        "colab": {
          "base_uri": "https://localhost:8080/"
        },
        "id": "8sXwTdrK3NWd",
        "outputId": "89346e5d-5af3-4e4d-e0fb-1b078260d4a6"
      },
      "execution_count": null,
      "outputs": [
        {
          "output_type": "stream",
          "name": "stdout",
          "text": [
            "37\n",
            "37.0 degree Celsius is equal to 98.6 degree Fahrenheit\n"
          ]
        }
      ]
    },
    {
      "cell_type": "markdown",
      "source": [
        "3b. Reads the length of the two smallest sides of a right triangle and calculates the length\n",
        "of the hypotenuse\n",
        "\n"
      ],
      "metadata": {
        "id": "fejszrIk3wMR"
      }
    },
    {
      "cell_type": "code",
      "source": [
        "a = float(input())\n",
        "b = float(input())\n",
        "print(math.sqrt(a**2+b**2))"
      ],
      "metadata": {
        "id": "6gM0KuUD4Rf-"
      },
      "execution_count": null,
      "outputs": []
    },
    {
      "cell_type": "markdown",
      "source": [
        "3c. Reads a string and converts it to capital letters, printing the result."
      ],
      "metadata": {
        "id": "nPOFnTky4alY"
      }
    },
    {
      "cell_type": "code",
      "source": [
        "str = input()\n",
        "print(str.upper())"
      ],
      "metadata": {
        "colab": {
          "base_uri": "https://localhost:8080/"
        },
        "id": "HcuhLZYY4glb",
        "outputId": "11f650c3-3e42-49e7-8601-575101a66037"
      },
      "execution_count": null,
      "outputs": [
        {
          "output_type": "stream",
          "name": "stdout",
          "text": [
            "alpha\n",
            "ALPHA\n"
          ]
        }
      ]
    },
    {
      "cell_type": "markdown",
      "source": [
        "3d. Adapt the previous program to read the string from a file, whose name is entered by the user."
      ],
      "metadata": {
        "id": "UNO76MRA4_-l"
      }
    },
    {
      "cell_type": "code",
      "source": [
        "name = input()\n",
        "f = open(name, 'w')\n",
        "f.write('apple\\n')\n",
        "f.write('orange\\n')\n",
        "f.write('pear\\n')\n",
        "f.close()   \n",
        "f = open('test.txt', 'r')\n",
        "f.readlines()        # Read all (next) lines into a list of strings\n"
      ],
      "metadata": {
        "colab": {
          "base_uri": "https://localhost:8080/"
        },
        "id": "YPAqbDE-5H-G",
        "outputId": "141d9b61-982b-46dd-aa53-1de8b18bffad"
      },
      "execution_count": null,
      "outputs": [
        {
          "name": "stdout",
          "output_type": "stream",
          "text": [
            "test\n"
          ]
        },
        {
          "output_type": "execute_result",
          "data": {
            "text/plain": [
              "['apple\\n', 'orange\\n', 'pear\\n']"
            ]
          },
          "metadata": {},
          "execution_count": 18
        }
      ]
    },
    {
      "cell_type": "code",
      "source": [
        "f.close()"
      ],
      "metadata": {
        "id": "dKpi8ZBH6aVT"
      },
      "execution_count": null,
      "outputs": []
    },
    {
      "cell_type": "markdown",
      "source": [
        "3e. Reads a string and checks if it is a palindrome, i.e. if it reads the same when it is\n",
        "reversed. Implement different versions using functions over strings, and cycles\n",
        "(for/while)."
      ],
      "metadata": {
        "id": "CzYgXVig6cbE"
      }
    },
    {
      "cell_type": "code",
      "source": [
        "def isPalindrome(s):\n",
        "    return s == s[::-1] \n",
        "# Driver code\n",
        "s = \"malayalam\"\n",
        "ans = isPalindrome(s)\n",
        "if ans:\n",
        "    print(\"Yes\")\n",
        "else:\n",
        "    print(\"No\")"
      ],
      "metadata": {
        "colab": {
          "base_uri": "https://localhost:8080/"
        },
        "id": "R3_trGWd6jgb",
        "outputId": "1e100eff-fc4e-41a1-b052-69dfd1e3da2c"
      },
      "execution_count": null,
      "outputs": [
        {
          "output_type": "stream",
          "name": "stdout",
          "text": [
            "Yes\n"
          ]
        }
      ]
    },
    {
      "cell_type": "code",
      "source": [
        "def isPalindrome(str):\n",
        "    # Run loop from 0 to len/2\n",
        "    for i in range(0, int(len(str)/2)):\n",
        "        if str[i] != str[len(str)-i-1]:\n",
        "            return False\n",
        "    return True\n",
        "s = \"malayalam\"\n",
        "ans = isPalindrome(s)\n",
        " \n",
        "if (ans):\n",
        "    print(\"Yes\")\n",
        "else:\n",
        "    print(\"No\")"
      ],
      "metadata": {
        "colab": {
          "base_uri": "https://localhost:8080/"
        },
        "id": "SeWAuPhi7B-8",
        "outputId": "621d81f5-3a9f-4702-8343-18c8ec763b8f"
      },
      "execution_count": null,
      "outputs": [
        {
          "output_type": "stream",
          "name": "stdout",
          "text": [
            "Yes\n"
          ]
        }
      ]
    },
    {
      "cell_type": "markdown",
      "source": [
        "3f. Reads three numerical values from the standard input, and calculates the largest and\n",
        "the smallest value."
      ],
      "metadata": {
        "id": "t17BKpHm7GY8"
      }
    },
    {
      "cell_type": "code",
      "source": [
        "n1 = int(input())\n",
        "n2 = int(input())\n",
        "n3 = int(input())\n",
        "arr = [n1, n2, n3]\n",
        "print(\"The largest: \", max(arr))\n",
        "print(\"The smallest: \", min(arr))"
      ],
      "metadata": {
        "colab": {
          "base_uri": "https://localhost:8080/"
        },
        "id": "jogrcKe-7LFo",
        "outputId": "14017971-71de-441a-a8fe-2fbba7232d02"
      },
      "execution_count": null,
      "outputs": [
        {
          "output_type": "stream",
          "name": "stdout",
          "text": [
            "1\n",
            "2\n",
            "3\n",
            "The largest:  3\n",
            "The smallest:  1\n"
          ]
        }
      ]
    },
    {
      "cell_type": "markdown",
      "source": [
        "3g. Reads two numerical intervals (defined by lower and upper range), and outputs their union and their intersection."
      ],
      "metadata": {
        "id": "wOSCOaSG7utR"
      }
    },
    {
      "cell_type": "code",
      "source": [
        "import numpy as np \n",
        "a = set(np.arange(1, 5)) #Creating an array of 10 elements \n",
        "b = set(np.arange(3, 11)) #Creating an array of 10 elements \n",
        "a & b\n"
      ],
      "metadata": {
        "colab": {
          "base_uri": "https://localhost:8080/"
        },
        "id": "ckUdo7Ql8Vye",
        "outputId": "921ac79d-19b3-4ae3-c73d-d6e2f2885673"
      },
      "execution_count": null,
      "outputs": [
        {
          "output_type": "execute_result",
          "data": {
            "text/plain": [
              "{3, 4}"
            ]
          },
          "metadata": {},
          "execution_count": 29
        }
      ]
    },
    {
      "cell_type": "code",
      "source": [
        "a | b"
      ],
      "metadata": {
        "colab": {
          "base_uri": "https://localhost:8080/"
        },
        "id": "4i3CPVA390cZ",
        "outputId": "b4a97d93-54b3-4f61-fe72-52014a946589"
      },
      "execution_count": null,
      "outputs": [
        {
          "output_type": "execute_result",
          "data": {
            "text/plain": [
              "{1, 2, 3, 4, 5, 6, 7, 8, 9, 10}"
            ]
          },
          "metadata": {},
          "execution_count": 30
        }
      ]
    },
    {
      "cell_type": "markdown",
      "source": [
        "3h. Reads a numerical interval (defined by lower and upper range), and calculates the sum of all integer values includes in the interval.\n",
        "\n",
        "---\n",
        "\n"
      ],
      "metadata": {
        "id": "PM3dsNss-W40"
      }
    },
    {
      "cell_type": "code",
      "source": [
        "import numpy as np \n",
        "a = np.arange(1, 10)\n",
        "n = len(a)\n",
        "print(\"Sum of given array is \", sum(a));\n"
      ],
      "metadata": {
        "colab": {
          "base_uri": "https://localhost:8080/"
        },
        "id": "IxbbV89L-u2O",
        "outputId": "3a20f437-7e5e-43eb-bfdc-aadeb46c8911"
      },
      "execution_count": null,
      "outputs": [
        {
          "output_type": "stream",
          "name": "stdout",
          "text": [
            "Sum of given array is  45\n"
          ]
        }
      ]
    },
    {
      "cell_type": "markdown",
      "source": [
        "3i. Reads a sequence of integer (positive) values, terminated by value 0, and outputs their sum, mean and largest value."
      ],
      "metadata": {
        "id": "utqqOS1hABkD"
      }
    },
    {
      "cell_type": "code",
      "source": [
        "import statistics\n",
        "n = int(input('How many do you want to read?'))\n",
        "alist = [] \n",
        "for i in range(n):\n",
        "  x = int(input())\n",
        "  if(x == 0):\n",
        "    break\n",
        "  else:\n",
        "    alist.append(x)\n",
        "\n",
        "print(sum(alist))\n",
        "print(max(alist))\n",
        "x = statistics.mean(alist)\n",
        "print(\"Mean is :\", x)"
      ],
      "metadata": {
        "colab": {
          "base_uri": "https://localhost:8080/"
        },
        "id": "EZrDWJltAIHM",
        "outputId": "052d8741-c645-4061-cff0-572562ed69d0"
      },
      "execution_count": null,
      "outputs": [
        {
          "output_type": "stream",
          "name": "stdout",
          "text": [
            "How many do you want to read?3\n",
            "1\n",
            "2\n",
            "3\n",
            "6\n",
            "3\n",
            "Mean is : 2\n"
          ]
        }
      ]
    },
    {
      "cell_type": "markdown",
      "source": [
        "3j. Reads a sequence of integer (positive) values, terminated by value 0, and outputs the same sequence in decreasing order"
      ],
      "metadata": {
        "id": "efaVljw3EP7g"
      }
    },
    {
      "cell_type": "code",
      "source": [
        "n = int(input('How many do you want to read?'))\n",
        "alist = [] \n",
        "for i in range(n):\n",
        "  x = int(input())\n",
        "  if(x == 0):\n",
        "    break\n",
        "  else:\n",
        "    alist.append(x)\n",
        "alist.sort(reverse = True)\n",
        "print(alist)"
      ],
      "metadata": {
        "colab": {
          "base_uri": "https://localhost:8080/"
        },
        "id": "51KoQQm3EoDL",
        "outputId": "06f6fd13-d7bf-4720-bb08-69478a42e57a"
      },
      "execution_count": null,
      "outputs": [
        {
          "output_type": "stream",
          "name": "stdout",
          "text": [
            "How many do you want to read?5\n",
            "1 \n",
            "2\n",
            "3\n",
            "4\n",
            "5\n",
            "[5, 4, 3, 2, 1]\n"
          ]
        }
      ]
    },
    {
      "cell_type": "markdown",
      "source": [
        "4. Repeat the previous exercise, now creating functions for the different tasks and calling those functions within your programs."
      ],
      "metadata": {
        "id": "tXEmHts9Ey0c"
      }
    },
    {
      "cell_type": "markdown",
      "source": [
        "a. Reads a value of temperature in Celsius degrees (ºC) and converts it into a temperature in Fahrenheit degrees (ºF).\n",
        "\n",
        "\n"
      ],
      "metadata": {
        "id": "w2bDyL3gFdk6"
      }
    },
    {
      "cell_type": "code",
      "source": [
        "def cf(celsius):\n",
        "  fahrenheit = (celsius * 1.8) + 32\n",
        "  print('%0.1f degree Celsius is equal to %0.1f degree Fahrenheit' %(celsius,fahrenheit))"
      ],
      "metadata": {
        "id": "VQgt-YZ2E6mw"
      },
      "execution_count": null,
      "outputs": []
    },
    {
      "cell_type": "code",
      "source": [
        "cf(39.5)"
      ],
      "metadata": {
        "colab": {
          "base_uri": "https://localhost:8080/"
        },
        "id": "3uRIkRB4FODf",
        "outputId": "2749d9b4-1d86-49c5-c8e6-2f1300dcd05c"
      },
      "execution_count": null,
      "outputs": [
        {
          "output_type": "stream",
          "name": "stdout",
          "text": [
            "39.5 degree Celsius is equal to 103.1 degree Fahrenheit\n"
          ]
        }
      ]
    },
    {
      "cell_type": "markdown",
      "source": [
        "b.Reads the length of the two smallest sides of a right triangle and calculates the length\n",
        "of the hypotenuse"
      ],
      "metadata": {
        "id": "PRdrm1jZFjJ8"
      }
    },
    {
      "cell_type": "code",
      "source": [
        "import math\n",
        "def hypotenuse(a, b):\n",
        "  print(math.sqrt(a**2+b**2))\n",
        "hypotenuse(3, 4)"
      ],
      "metadata": {
        "colab": {
          "base_uri": "https://localhost:8080/"
        },
        "id": "XXEotnlzFj47",
        "outputId": "5818db4d-e9e0-4f3f-93fd-ba3631b10ea1"
      },
      "execution_count": null,
      "outputs": [
        {
          "output_type": "stream",
          "name": "stdout",
          "text": [
            "5.0\n"
          ]
        }
      ]
    },
    {
      "cell_type": "markdown",
      "source": [
        "c.Reads a string and converts it to capital letters, printing the result."
      ],
      "metadata": {
        "id": "so37oUIuFxhz"
      }
    },
    {
      "cell_type": "code",
      "source": [
        "def upper(str):\n",
        "  print(str.upper())\n",
        "upper(\"alpha\")"
      ],
      "metadata": {
        "colab": {
          "base_uri": "https://localhost:8080/"
        },
        "id": "VEBHFKM8FyL6",
        "outputId": "1e573d29-1698-4c90-aa18-b63b266097d6"
      },
      "execution_count": null,
      "outputs": [
        {
          "output_type": "stream",
          "name": "stdout",
          "text": [
            "ALPHA\n"
          ]
        }
      ]
    },
    {
      "cell_type": "markdown",
      "source": [
        "d. Adapt the previous program to read the string from a file, whose name is entered by the user."
      ],
      "metadata": {
        "id": "5IA5iJDbGCIM"
      }
    },
    {
      "cell_type": "code",
      "source": [
        "def f(name):\n",
        "  f = open(name, 'w')\n",
        "  f.write('apple\\n')\n",
        "  f.write('orange\\n')\n",
        "  f.write('pear\\n')\n",
        "  f.close()         \n",
        "f(\"test.txt\")\n",
        "f = open('test.txt', 'r')\n",
        "f.readlines() "
      ],
      "metadata": {
        "colab": {
          "base_uri": "https://localhost:8080/"
        },
        "id": "V1j4GjbpGSZe",
        "outputId": "966ec5e9-e6a3-4800-b1da-b30810fad5fb"
      },
      "execution_count": null,
      "outputs": [
        {
          "output_type": "execute_result",
          "data": {
            "text/plain": [
              "['apple\\n', 'orange\\n', 'pear\\n']"
            ]
          },
          "metadata": {},
          "execution_count": 70
        }
      ]
    },
    {
      "cell_type": "markdown",
      "source": [
        "e. Reads a string and checks if it is a palindrome, i.e. if it reads the same when it is reversed. Implement different versions using functions over strings, and cycles (for/while)."
      ],
      "metadata": {
        "id": "grVkKVuMGe4S"
      }
    },
    {
      "cell_type": "code",
      "source": [
        "def isPalindrome(s):\n",
        "    return s == s[::-1] \n",
        "# Driver code\n",
        "s = \"malayalam\"\n",
        "ans = isPalindrome(s)\n",
        "if ans:\n",
        "    print(\"Yes\")\n",
        "else:\n",
        "    print(\"No\")"
      ],
      "metadata": {
        "colab": {
          "base_uri": "https://localhost:8080/"
        },
        "id": "VXwPHvSGGlW9",
        "outputId": "e2605ef9-c306-410e-cac9-3506b0fb9bd9"
      },
      "execution_count": null,
      "outputs": [
        {
          "output_type": "stream",
          "name": "stdout",
          "text": [
            "Yes\n"
          ]
        }
      ]
    },
    {
      "cell_type": "code",
      "source": [
        "def isPalindrome(str):\n",
        "    # Run loop from 0 to len/2\n",
        "    for i in range(0, int(len(str)/2)):\n",
        "        if str[i] != str[len(str)-i-1]:\n",
        "            return False\n",
        "    return True\n",
        "s = \"malayalam\"\n",
        "ans = isPalindrome(s)\n",
        " \n",
        "if (ans):\n",
        "    print(\"Yes\")\n",
        "else:\n",
        "    print(\"No\")"
      ],
      "metadata": {
        "colab": {
          "base_uri": "https://localhost:8080/"
        },
        "id": "Y14VoLwPGzt1",
        "outputId": "d682ec4f-b932-4b8b-904a-74adec7a7f5b"
      },
      "execution_count": null,
      "outputs": [
        {
          "output_type": "stream",
          "name": "stdout",
          "text": [
            "Yes\n"
          ]
        }
      ]
    },
    {
      "cell_type": "markdown",
      "source": [
        "f. Reads three numerical values from the standard input, and calculates the largest and the smallest value."
      ],
      "metadata": {
        "id": "BOl2SQuMG05K"
      }
    },
    {
      "cell_type": "code",
      "source": [
        "def small_large():\n",
        "  n1 = int(input())\n",
        "  n2 = int(input())\n",
        "  n3 = int(input())\n",
        "  arr = [n1, n2, n3]\n",
        "  print(\"The largest: \", max(arr))\n",
        "  print(\"The smallest: \", min(arr))\n",
        "small_large()"
      ],
      "metadata": {
        "colab": {
          "base_uri": "https://localhost:8080/"
        },
        "id": "A1jV0MWqG5FO",
        "outputId": "e755956d-e7e1-42a4-ff3e-08f645b1b6ca"
      },
      "execution_count": null,
      "outputs": [
        {
          "output_type": "stream",
          "name": "stdout",
          "text": [
            "1\n",
            "2\n",
            "3\n",
            "The largest:  3\n",
            "The smallest:  1\n"
          ]
        }
      ]
    },
    {
      "cell_type": "markdown",
      "source": [
        "g. Reads two numerical intervals (defined by lower and upper range), and outputs their union and their intersection."
      ],
      "metadata": {
        "id": "eZHf7cybHGn-"
      }
    },
    {
      "cell_type": "code",
      "source": [
        "import numpy as np \n",
        "def union_inter():\n",
        "  a = set(np.arange(1, 5)) #Creating an array of 10 elements \n",
        "  b = set(np.arange(3, 11)) #Creating an array of 10 elements \n",
        "union_inter()\n",
        "a & b"
      ],
      "metadata": {
        "colab": {
          "base_uri": "https://localhost:8080/"
        },
        "id": "Pvyr7ssmHLBv",
        "outputId": "a0b44825-cb47-494b-8d24-c5cf2bec8312"
      },
      "execution_count": null,
      "outputs": [
        {
          "output_type": "execute_result",
          "data": {
            "text/plain": [
              "{3, 4}"
            ]
          },
          "metadata": {},
          "execution_count": 77
        }
      ]
    },
    {
      "cell_type": "code",
      "source": [
        "a | b"
      ],
      "metadata": {
        "colab": {
          "base_uri": "https://localhost:8080/"
        },
        "id": "fl0BTaSmHdI9",
        "outputId": "d4ecf673-10fd-439d-ae7e-97bca7f882a0"
      },
      "execution_count": null,
      "outputs": [
        {
          "output_type": "execute_result",
          "data": {
            "text/plain": [
              "{1, 2, 3, 4, 5, 6, 7, 8, 9, 10}"
            ]
          },
          "metadata": {},
          "execution_count": 78
        }
      ]
    },
    {
      "cell_type": "markdown",
      "source": [
        "h. Reads a numerical interval (defined by lower and upper range), and calculates the sum of all integer values includes in the interval."
      ],
      "metadata": {
        "id": "Q_iWrgcVHfBI"
      }
    },
    {
      "cell_type": "code",
      "source": [
        "import numpy as np \n",
        "def s():\n",
        "  a = np.arange(1, 10)\n",
        "  n = len(a)\n",
        "  print(\"Sum of given array is \", sum(a));\n",
        "s()\n"
      ],
      "metadata": {
        "colab": {
          "base_uri": "https://localhost:8080/"
        },
        "id": "piwbyCFlHjv4",
        "outputId": "624647fa-6cfd-41a7-9615-db3317757dac"
      },
      "execution_count": null,
      "outputs": [
        {
          "output_type": "stream",
          "name": "stdout",
          "text": [
            "Sum of given array is  45\n"
          ]
        }
      ]
    },
    {
      "cell_type": "markdown",
      "source": [
        "i. Reads a sequence of integer (positive) values, terminated by value 0, and outputs their sum, mean and largest value.\n"
      ],
      "metadata": {
        "id": "yLA8WNROHsva"
      }
    },
    {
      "cell_type": "code",
      "source": [
        "import statistics\n",
        "def stat():\n",
        "  n = int(input('How many do you want to read?'))\n",
        "  alist = [] \n",
        "  for i in range(n):\n",
        "    x = int(input())\n",
        "    if(x == 0):\n",
        "      break\n",
        "    else:\n",
        "      alist.append(x)\n",
        "\n",
        "  print(sum(alist))\n",
        "  print(max(alist))\n",
        "  x = statistics.mean(alist)\n",
        "  print(\"Mean is :\", x)\n",
        "\n",
        "stat()"
      ],
      "metadata": {
        "colab": {
          "base_uri": "https://localhost:8080/"
        },
        "id": "u5RverykHyl1",
        "outputId": "f3f1608b-d272-4efb-ea31-9107d8a56e71"
      },
      "execution_count": null,
      "outputs": [
        {
          "output_type": "stream",
          "name": "stdout",
          "text": [
            "How many do you want to read?3\n",
            "1\n",
            "2\n",
            "3\n",
            "6\n",
            "3\n",
            "Mean is : 2\n"
          ]
        }
      ]
    },
    {
      "cell_type": "markdown",
      "source": [
        "j. Reads a sequence of integer (positive) values, terminated by value 0, and outputs the same sequence in decreasing order"
      ],
      "metadata": {
        "id": "WVjKGfGIH-gf"
      }
    },
    {
      "cell_type": "code",
      "source": [
        "def descend():\n",
        "  n = int(input('How many do you want to read?'))\n",
        "  alist = [] \n",
        "  for i in range(n):\n",
        "    x = int(input())\n",
        "    if(x == 0):\n",
        "      break\n",
        "    else:\n",
        "      alist.append(x)\n",
        "  alist.sort(reverse = True)\n",
        "  print(alist)\n",
        "descend()"
      ],
      "metadata": {
        "colab": {
          "base_uri": "https://localhost:8080/"
        },
        "id": "cKEFyknwIDyX",
        "outputId": "a0e5744d-b4f9-43e3-aebe-b5c0c2d06f7a"
      },
      "execution_count": null,
      "outputs": [
        {
          "output_type": "stream",
          "name": "stdout",
          "text": [
            "How many do you want to read?3\n",
            "1\n",
            "2\n",
            "3\n",
            "[3, 2, 1]\n"
          ]
        }
      ]
    },
    {
      "cell_type": "markdown",
      "source": [
        "5. Define a class to represent a rectangle, where the attributes should be height and length.\n",
        "a. Implement the following methods: constructor; calculate area; calculate perimeter;\n",
        "calculate length of the diagonal.\n",
        "b. Test your class defining instances of different sizes.\n",
        "c. Implement a sub-class (child) that extends this class, to represent squares"
      ],
      "metadata": {
        "id": "YM7nVx7zITpj"
      }
    },
    {
      "cell_type": "code",
      "source": [
        "import math\n",
        "class Rectangle():\n",
        "    def __init__(self, l, w):\n",
        "        self.length = l\n",
        "        self.width  = w\n",
        "    def area(self):\n",
        "        return self.length*self.width\n",
        "    def perim(self):\n",
        "        return 2*(self.length + self.width)\n",
        "    def diagonal(self):\n",
        "        return math.sqrt(self.length**2 + self.width ** 2)\n",
        "class Square(Rectangle):\n",
        "    def __init__(self, side):\n",
        "        super().__init__(side, side)\n"
      ],
      "metadata": {
        "id": "KxhRR1A9IV30"
      },
      "execution_count": null,
      "outputs": []
    },
    {
      "cell_type": "code",
      "source": [
        "newRectangle = Rectangle(12, 10)\n",
        "print(newRectangle.area())\n",
        "print(newRectangle.perim())\n",
        "print(newRectangle.diagonal())"
      ],
      "metadata": {
        "colab": {
          "base_uri": "https://localhost:8080/"
        },
        "id": "XnheyNoaK6jF",
        "outputId": "fefb794c-d0bb-4569-b88c-147131526af2"
      },
      "execution_count": null,
      "outputs": [
        {
          "output_type": "stream",
          "name": "stdout",
          "text": [
            "120\n",
            "44\n",
            "15.620499351813308\n"
          ]
        }
      ]
    },
    {
      "cell_type": "code",
      "source": [
        "my_square = Square(2)\n",
        "my_square.diagonal()"
      ],
      "metadata": {
        "colab": {
          "base_uri": "https://localhost:8080/"
        },
        "id": "1kbHlj4oK9IK",
        "outputId": "5eb1b116-98ff-4f6a-8798-705bd90f7cad"
      },
      "execution_count": null,
      "outputs": [
        {
          "output_type": "execute_result",
          "data": {
            "text/plain": [
              "2.8284271247461903"
            ]
          },
          "metadata": {},
          "execution_count": 87
        }
      ]
    },
    {
      "cell_type": "code",
      "source": [
        "my_square.area()"
      ],
      "metadata": {
        "colab": {
          "base_uri": "https://localhost:8080/"
        },
        "id": "tozji7xOLFc4",
        "outputId": "75e72142-7feb-458b-a288-8fc25a52c2a4"
      },
      "execution_count": null,
      "outputs": [
        {
          "output_type": "execute_result",
          "data": {
            "text/plain": [
              "4"
            ]
          },
          "metadata": {},
          "execution_count": 88
        }
      ]
    },
    {
      "cell_type": "code",
      "source": [
        "my_square.perim()"
      ],
      "metadata": {
        "colab": {
          "base_uri": "https://localhost:8080/"
        },
        "id": "A2snOf2ELLBx",
        "outputId": "e452b034-8aee-40bf-fd7e-db274f2e8b29"
      },
      "execution_count": null,
      "outputs": [
        {
          "output_type": "execute_result",
          "data": {
            "text/plain": [
              "8"
            ]
          },
          "metadata": {},
          "execution_count": 89
        }
      ]
    },
    {
      "cell_type": "markdown",
      "source": [
        "6. Extend the class for handling sequences developed in this chapter, defining a sub-class to\n",
        "handle DNA sequences. Implement a method to validate if the sequence is valid (i.e. if it\n",
        "only contains the symbols “A”, “C”, “G”, or “T”). Add other methods that you think may\n",
        "be useful in this context."
      ],
      "metadata": {
        "id": "wY1Xdzp39sVp"
      }
    },
    {
      "cell_type": "code",
      "source": [
        "class MySeq:\n",
        "  def __init__( self , seq, seq_type = \"DNA\"):\n",
        "    self .seq = seq\n",
        "    self .seq_type = seq_type\n",
        "  def print_sequence( self ):\n",
        "    print (\"Sequence: \" + self .seq)\n",
        "  def get_seq_biotype ( self ):\n",
        "    return self .seq_type\n",
        "  def show_info_seq ( self ):\n",
        "    print (\"Sequence: \" + self .seq + \" biotype: \" + self .seq_type)\n",
        "  def count_occurrences( self , seq_search):\n",
        "    return self .seq.count(seq_search)\n",
        "  def check(self, seq):\n",
        "    if(\"T\" in seq or \"A\" in seq or \"G\" in seq or \"C\" in seq):\n",
        "      return \"Sequence is Valid\"\n",
        "    else:\n",
        "      return \"Not valid sequence\""
      ],
      "metadata": {
        "id": "RP_9TXfv-g3Y"
      },
      "execution_count": null,
      "outputs": []
    },
    {
      "cell_type": "code",
      "source": [
        "s1 = MySeq(\"ATAATGATAGATAGATGAT\")\n",
        "# access attribute values\n",
        "print (s1.seq)\n",
        "print (s1.seq_type)\n",
        "# calling methodss\n",
        "s1.print_sequence()\n",
        "print (s1.get_seq_biotype())"
      ],
      "metadata": {
        "colab": {
          "base_uri": "https://localhost:8080/"
        },
        "id": "A3v68V-V-7Xv",
        "outputId": "208ac741-bc14-4d9d-e7ca-11860b9856d1"
      },
      "execution_count": null,
      "outputs": [
        {
          "output_type": "stream",
          "name": "stdout",
          "text": [
            "ATAATGATAGATAGATGAT\n",
            "DNA\n",
            "Sequence: ATAATGATAGATAGATGAT\n",
            "DNA\n"
          ]
        }
      ]
    },
    {
      "cell_type": "code",
      "source": [
        "s1.check(s1.seq)"
      ],
      "metadata": {
        "colab": {
          "base_uri": "https://localhost:8080/",
          "height": 35
        },
        "id": "JpLljJCC_bsd",
        "outputId": "1dba9132-d9e8-4d48-a295-1b1595294498"
      },
      "execution_count": null,
      "outputs": [
        {
          "output_type": "execute_result",
          "data": {
            "application/vnd.google.colaboratory.intrinsic+json": {
              "type": "string"
            },
            "text/plain": [
              "'Sequence is Valid'"
            ]
          },
          "metadata": {},
          "execution_count": 8
        }
      ]
    }
  ]
}